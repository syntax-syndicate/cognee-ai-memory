{
 "cells": [
  {
   "cell_type": "code",
   "execution_count": null,
   "id": "initial_id",
   "metadata": {
    "collapsed": true
   },
   "outputs": [],
   "source": [
    "!pip install owlready2"
   ]
  },
  {
   "cell_type": "markdown",
   "id": "ce0f3dbe",
   "metadata": {},
   "source": [
    "# Graphrag Ontology Integration Demo\n",
    "\n",
    "This demonstration shows how graphrag works both with and without ontology integration, highlighting the differences, benefits, and practical applications of using ontological knowledge in a knowledge graph system.\n",
    "\n",
    "## Overview\n",
    "\n",
    "In this demo, we'll:\n",
    "1. Process data without ontology integration\n",
    "2. Process the same data with ontology integration\n",
    "3. Compare search results between the two approaches\n",
    "4. Visualize the differences in knowledge graphs"
   ]
  },
  {
   "metadata": {},
   "cell_type": "markdown",
   "source": "GraphRAG is taking advantage of the rich context in graph data structures to retrieve data\n",
   "id": "4bff1631df3c818c"
  },
  {
   "metadata": {},
   "cell_type": "markdown",
   "source": "",
   "id": "727888070dd70f52"
  },
  {
   "metadata": {},
   "cell_type": "markdown",
   "source": "Ontology represents a formalized depiction of knowledge. It delineates the essential concepts, interrelationships, and attributes within a specific domain",
   "id": "ff8bfd38a84c234b"
  },
  {
   "cell_type": "markdown",
   "id": "f6259f43",
   "metadata": {},
   "source": [
    "## 1. Setup and Environment\n",
    "\n"
   ]
  },
  {
   "cell_type": "markdown",
   "id": "a3f997ca",
   "metadata": {},
   "source": [
    "First, let's set up our environment with the necessary imports:"
   ]
  },
  {
   "cell_type": "code",
   "id": "466e6aa8",
   "metadata": {
    "ExecuteTime": {
     "end_time": "2025-02-28T22:12:51.413513Z",
     "start_time": "2025-02-28T22:12:51.403098Z"
    }
   },
   "source": [
    "import os\n",
    "import asyncio\n",
    "import pathlib\n",
    "from typing import List\n",
    "\n",
    "# Import Cognee utilities\n",
    "from utils import (\n",
    "setup_logging, \n",
    "visualize_graph,\n",
    "get_datasets,\n",
    "get_dataset_data,\n",
    "prune_data,\n",
    "prune_system,\n",
    "add,\n",
    "search,\n",
    "SearchType,\n",
    "get_default_user,\n",
    "KnowledgeGraph,\n",
    "add_data_points,\n",
    "base_graph_rag\n",
    ")\n",
    "\n",
    "# Import the ontology handling functions\n",
    "from ontology_demo import (\n",
    "owl_testing_pipeline,\n",
    "owl_ontology_merging_layer\n",
    ")\n",
    "\n",
    "import logging\n",
    "setup_logging(logging.ERROR)\n",
    "\n",
    "# change loggi\n",
    "\n"
   ],
   "outputs": [],
   "execution_count": 17
  },
  {
   "cell_type": "markdown",
   "id": "09462fc7",
   "metadata": {},
   "source": [
    "## 2. Data Preparation"
   ]
  },
  {
   "cell_type": "markdown",
   "id": "9050ae5f",
   "metadata": {},
   "source": [
    "We'll use the same test data for both approaches:"
   ]
  },
  {
   "cell_type": "code",
   "id": "839ec02a",
   "metadata": {
    "ExecuteTime": {
     "end_time": "2025-02-28T22:13:21.481035Z",
     "start_time": "2025-02-28T22:13:21.477942Z"
    }
   },
   "source": [
    "async def prepare_data():\n",
    "    # Clean previous data\n",
    "    await prune_data()\n",
    "    await prune_system(metadata=True)\n",
    "    \n",
    "    # Add test data - the path should point to your data files\n",
    "    current_dir = os.getcwd()\n",
    "    parent_dir = os.path.dirname(current_dir)\n",
    "    file_path = os.path.join(parent_dir, \"ontology_test_input\")\n",
    "    # file_path = os.path.join(\n",
    "    #     os.path.abspath(os.path.join(os.path.dirname(os.path.abspath(__file__)), os.pardir)),\n",
    "    #     \"ontology_test_input\"\n",
    "    # )\n",
    "    await add(file_path)\n",
    "    \n",
    "    print(\"Data prepared successfully\")\n"
   ],
   "outputs": [],
   "execution_count": 18
  },
  {
   "cell_type": "markdown",
   "id": "5ed7d228",
   "metadata": {},
   "source": [
    "## 3. Standard Knowledge Graph Processing (Without Ontology)\n",
    "\n"
   ]
  },
  {
   "cell_type": "markdown",
   "id": "b865bcdb",
   "metadata": {},
   "source": [
    "Let's process our data using the standard graphrag pipeline without ontology integration:"
   ]
  },
  {
   "cell_type": "code",
   "id": "075f3bb1",
   "metadata": {
    "ExecuteTime": {
     "end_time": "2025-02-28T22:19:12.392952Z",
     "start_time": "2025-02-28T22:19:12.386105Z"
    }
   },
   "source": [
    "async def process_without_ontology():\n",
    "    # Get the dataset to process\n",
    "    from cognee.modules.data.methods import get_datasets\n",
    "    from cognee import cognify\n",
    "    \n",
    "    await base_graph_rag()\n",
    "    # user = await get_default_user()\n",
    "    # datasets = await get_datasets(user.id)\n",
    "    # \n",
    "    # if not datasets:\n",
    "    #     print(\"No datasets found!\")\n",
    "    #     return\n",
    "    # \n",
    "    # # Use the standard pipeline\n",
    "    # from utils import (\n",
    "    #     run_tasks,\n",
    "    #     Task,\n",
    "    #     classify_documents,\n",
    "    #     check_permissions_on_documents,\n",
    "    #     extract_chunks_from_documents,\n",
    "    #     extract_content_graph,\n",
    "    #     get_max_chunk_tokens,\n",
    "    # \n",
    "    # )\n",
    "    # from cognee.modules.cognify.config import get_cognify_config\n",
    "    # from cognee.modules.data.models import Data, Dataset\n",
    "    # from cognee.tasks.summarization import summarize_text\n",
    "    # \n",
    "    # existing_datasets = await get_datasets(user.id)\n",
    "    # \n",
    "    # for dataset in datasets:\n",
    "    # \n",
    "    #     data_documents: list[Data] = await get_dataset_data(dataset_id=dataset.id)\n",
    "    # \n",
    "    #     try:\n",
    "    #         # cognee_config = get_cognify_config()\n",
    "    # \n",
    "    #         tasks = [\n",
    "    #             Task(classify_documents),\n",
    "    #             Task(check_permissions_on_documents, user=user, permissions=[\"write\"]),\n",
    "    #             Task(\n",
    "    #                 extract_chunks_from_documents, max_chunk_tokens=get_max_chunk_tokens()\n",
    "    #             ),  # Extract text chunks based on the document type.\n",
    "    #             Task(\n",
    "    #                 extract_graph_from_data, graph_model=KnowledgeGraph, task_config={\"batch_size\": 10}\n",
    "    #             ),  # Generate knowledge graphs from the document chunks.\n",
    "    #             # Task(\n",
    "    #             #     summarize_text,\n",
    "    #             #     summarization_model=cognee_config.summarization_model,\n",
    "    #             #     task_config={\"batch_size\": 10},\n",
    "    #             # ),\n",
    "    #             Task(add_data_points, task_config={\"batch_size\": 10}),\n",
    "    #         ]\n",
    "    # \n",
    "    #         pipeline_run = run_tasks(tasks, dataset.id, data_documents, \"cognify_pipeline\")\n",
    "    #     except:\n",
    "    #         print(\"U KURAC\")\n",
    "    #         pass\n",
    "    # for dataset in datasets:\n",
    "    #     data_documents = await get_dataset_data(dataset_id=dataset.id)\n",
    "    # \n",
    "    #     \n",
    "    #     tasks = [\n",
    "    #         Task(classify_documents),\n",
    "    #         Task(check_permissions_on_documents, user=user, permissions=[\"write\"]),\n",
    "    #         Task(extract_chunks_from_documents, max_chunk_tokens=get_max_chunk_tokens()),\n",
    "    #         Task(\n",
    "    #             extract_graph_from_data, graph_model=KnowledgeGraph, task_config={\"batch_size\": 10}\n",
    "    #         ),  # Generate knowledge graphs from the document chunks.\n",
    "    #         Task(add_data_points, task_config={\"batch_size\": 10}),\n",
    "    #     ]\n",
    "    #     \n",
    "    #     \n",
    "    #     pipeline_run = run_tasks(tasks, dataset.id, data_documents, \"standard_pipeline\")\n",
    "    #     \n",
    "    #     async for run_status in pipeline_run:\n",
    "    #         print(run_status)\n",
    "    \n",
    "    # Save graph visualization\n",
    "    notebook_dir = pathlib.Path.cwd()\n",
    "    output_dir = notebook_dir / \".artifacts\"\n",
    "    os.makedirs(output_dir, exist_ok=True)\n",
    "    \n",
    "    standard_graph_path = (output_dir / \"standard_graph_visualization.html\").resolve()\n",
    "    await visualize_graph(str(standard_graph_path))\n",
    "    \n",
    "    print(f\"Standard graph saved to: {standard_graph_path}\")\n",
    "    return standard_graph_path"
   ],
   "outputs": [],
   "execution_count": 19
  },
  {
   "cell_type": "code",
   "id": "fe93b9c5",
   "metadata": {
    "ExecuteTime": {
     "end_time": "2025-02-28T01:36:20.125273Z",
     "start_time": "2025-02-28T01:36:20.123291Z"
    }
   },
   "source": "",
   "outputs": [],
   "execution_count": null
  },
  {
   "metadata": {},
   "cell_type": "markdown",
   "source": "",
   "id": "c75ab8d44b2711aa"
  },
  {
   "cell_type": "markdown",
   "id": "ef009ee7",
   "metadata": {},
   "source": [
    "## 4. Ontology-Enhanced Processing"
   ]
  },
  {
   "cell_type": "markdown",
   "id": "0234f4f4",
   "metadata": {},
   "source": [
    "- RDF is a framework, think of a graph based model\n",
    "- NO reasoning NO Class restrictions (disjoint classes etc.)\n",
    "- NO inference (from A — B , B—C  it cannot infer A — C\n",
    "- NO class restrictions\n",
    "- Owl is the one that allows class inheritance for example Vehicle is a subclass of Car (nice to have)\n",
    "- Classes of instances (Airbnb is a type of a company which is similar to an orginaziation)\n",
    "- Transitive reasoning (A—father — B and B — father — C then A — grandfather — C)\n",
    "- Symmetric properties (for example owns — ownedby)\n",
    "Now, let's process the same data with ontology integration:"
   ]
  },
  {
   "cell_type": "code",
   "id": "af291c5d",
   "metadata": {
    "ExecuteTime": {
     "end_time": "2025-02-28T22:19:39.500363Z",
     "start_time": "2025-02-28T22:19:39.497171Z"
    }
   },
   "source": [
    "\n",
    "async def process_with_ontology():\n",
    "    # This uses the owl_testing_pipeline from ontology_demo.py\n",
    "    await owl_testing_pipeline()\n",
    "    \n",
    "    \n",
    "    # Save graph visualization\n",
    "    notebook_dir = pathlib.Path.cwd()\n",
    "    output_dir = notebook_dir / \".artifacts\"\n",
    "    os.makedirs(output_dir, exist_ok=True)\n",
    "    \n",
    "    ontology_graph_path = (output_dir / \"ontology_graph_visualization.html\").resolve()\n",
    "    await visualize_graph(str(ontology_graph_path))\n",
    "    \n",
    "    print(f\"Ontology-enhanced graph saved to: {ontology_graph_path}\")\n",
    "    return ontology_graph_path"
   ],
   "outputs": [],
   "execution_count": 20
  },
  {
   "cell_type": "markdown",
   "id": "44ae5800",
   "metadata": {},
   "source": [
    "## 5. Comparing Search Results"
   ]
  },
  {
   "cell_type": "markdown",
   "id": "3878d623",
   "metadata": {},
   "source": [
    "\n",
    "Let's execute some queries to compare the results:"
   ]
  },
  {
   "metadata": {
    "ExecuteTime": {
     "end_time": "2025-02-28T22:20:11.799882Z",
     "start_time": "2025-02-28T22:19:42.785169Z"
    }
   },
   "cell_type": "code",
   "source": [
    "queries = [\n",
    "    \"What are the exact cars produced by Audi and what are their types?\",\n",
    "    \"What features do luxury cars have?\",\n",
    "    \"Tell me about vehicle manufacturers and their relationships\"\n",
    "]\n",
    "\n",
    "print(\"==== STANDARD KNOWLEDGE GRAPH SEARCH RESULTS ====\")\n",
    "# First, search using the standard graph\n",
    "await prune_data()\n",
    "await prune_system()\n",
    "await prepare_data()\n",
    "await process_without_ontology()\n",
    "\n",
    "for query in queries:\n",
    "    print(f\"\\nQuery: {query}\")\n",
    "    results = await search(query_type=SearchType.GRAPH_COMPLETION, query_text=query)\n",
    "    print(\"Results:\")\n",
    "    for i, result in enumerate(results[:3]):\n",
    "        print(f\"{i+1}. {result}\")"
   ],
   "id": "e5316a01c80d649e",
   "outputs": [
    {
     "name": "stdout",
     "output_type": "stream",
     "text": [
      "==== STANDARD KNOWLEDGE GRAPH SEARCH RESULTS ====\n",
      "User 899b86ee-99a4-4c08-ac5c-bf3360c79ee1 has registered.\n",
      "<cognee.modules.pipelines.models.PipelineRun.PipelineRun object at 0x3468f5f50>\n"
     ]
    },
    {
     "name": "stderr",
     "output_type": "stream",
     "text": [
      "/Users/vasilije/cognee/.venv/lib/python3.11/site-packages/dlt/destinations/impl/sqlalchemy/merge_job.py:194: SAWarning: Table 'file_metadata' already exists within the given MetaData - not copying.\n",
      "  staging_table_obj = table_obj.to_metadata(\n",
      "/Users/vasilije/cognee/.venv/lib/python3.11/site-packages/dlt/destinations/impl/sqlalchemy/merge_job.py:229: SAWarning: implicitly coercing SELECT object to scalar subquery; please use the .scalar_subquery() method to produce a scalar subquery.\n",
      "  order_by=order_dir_func(order_by_col),\n"
     ]
    },
    {
     "name": "stdout",
     "output_type": "stream",
     "text": [
      "<cognee.modules.pipelines.models.PipelineRun.PipelineRun object at 0x3465eef90>\n",
      "Data prepared successfully\n",
      "Standard graph saved to: /Users/vasilije/cognee/cognee/ontology_testing_SANDBOX/Ontology_demo/.artifacts/standard_graph_visualization.html\n",
      "\n",
      "Query: What are the exact cars produced by Audi and what are their types?\n",
      "Results:\n",
      "1. The provided context does not specify the exact cars produced by Audi or their types. It only identifies Audi as a brand.\n",
      "\n",
      "Query: What features do luxury cars have?\n",
      "Results:\n",
      "1. Luxury cars typically feature modern designs, advanced technology, innovative safety features, high-quality engineering, dynamic driving experiences, and a range of options such as sedans, SUVs, sports cars, and all-wheel-drive systems. Brands like Audi, BMW, Mercedes-Benz, Porsche, and Volkswagen exemplify these characteristics.\n",
      "\n",
      "Query: Tell me about vehicle manufacturers and their relationships\n",
      "Results:\n",
      "1. The vehicle manufacturers mentioned are Volkswagen, Porsche, BMW, Mercedes-Benz, Audi, and Porsche. Key relationships include:\n",
      "\n",
      "- Volkswagen competes with Porsche, BMW, and Mercedes-Benz.\n",
      "- BMW competes with Mercedes-Benz.\n",
      "\n",
      "These manufacturers represent Germany's leadership in the automotive industry, combining innovation, performance, and design.\n"
     ]
    }
   ],
   "execution_count": 21
  },
  {
   "metadata": {
    "ExecuteTime": {
     "end_time": "2025-02-28T03:14:19.057820Z",
     "start_time": "2025-02-28T03:13:56.669417Z"
    }
   },
   "cell_type": "code",
   "source": [
    "print(\"\\n==== ONTOLOGY-ENHANCED KNOWLEDGE GRAPH SEARCH RESULTS ====\")\n",
    "# Now, search using the ontology-enhanced graph\n",
    "await prune_data()\n",
    "await prune_system()\n",
    "await prepare_data()  # Keep dataset but remove processing results\n",
    "await process_with_ontology()\n",
    "\n",
    "for query in queries:\n",
    "    print(f\"\\nQuery: {query}\")\n",
    "    results = await search(query_type=SearchType.GRAPH_COMPLETION, query_text=query)\n",
    "    print(\"Results:\")\n",
    "    for i, result in enumerate(results[:3]):\n",
    "        print(f\"{i+1}. {result}\")"
   ],
   "id": "b58259d4a321d4b7",
   "outputs": [
    {
     "name": "stdout",
     "output_type": "stream",
     "text": [
      "\n",
      "==== ONTOLOGY-ENHANCED KNOWLEDGE GRAPH SEARCH RESULTS ====\n",
      "User 1054f57e-b701-40cc-a4c6-95f15e203229 has registered.\n",
      "<cognee.modules.pipelines.models.PipelineRun.PipelineRun object at 0x344f93790>\n"
     ]
    },
    {
     "name": "stderr",
     "output_type": "stream",
     "text": [
      "/Users/vasilije/cognee/.venv/lib/python3.11/site-packages/dlt/destinations/impl/sqlalchemy/merge_job.py:194: SAWarning: Table 'file_metadata' already exists within the given MetaData - not copying.\n",
      "  staging_table_obj = table_obj.to_metadata(\n",
      "/Users/vasilije/cognee/.venv/lib/python3.11/site-packages/dlt/destinations/impl/sqlalchemy/merge_job.py:229: SAWarning: implicitly coercing SELECT object to scalar subquery; please use the .scalar_subquery() method to produce a scalar subquery.\n",
      "  order_by=order_dir_func(order_by_col),\n"
     ]
    },
    {
     "name": "stdout",
     "output_type": "stream",
     "text": [
      "<cognee.modules.pipelines.models.PipelineRun.PipelineRun object at 0x33ea4f650>\n",
      "Data prepared successfully\n",
      "Ontology loaded successfully.\n",
      "<cognee.modules.pipelines.models.PipelineRun.PipelineRun object at 0x347ee8fd0>\n",
      "<cognee.modules.pipelines.models.PipelineRun.PipelineRun object at 0x346279cd0>\n",
      "The query is What are the exact cars produced by Audi and what are their types?:\n",
      "Audi produces the following cars:\n",
      "1. Audi R8 - Type: Sports Car\n",
      "2. Audi e-tron - Type: Electric Car\n",
      "3. Audi A8 - Type: Luxury Sedan\n",
      "Ontology-enhanced graph saved to: /Users/vasilije/cognee/cognee/ontology_testing_SANDBOX/Ontology_demo/.artifacts/ontology_graph_visualization.html\n",
      "\n",
      "Query: What are the exact cars produced by Audi and what are their types?\n",
      "Results:\n",
      "1. Audi produces the following cars:\n",
      "1. Audi R8 - Type: Car\n",
      "2. Audi e-tron - Type: Car\n",
      "3. Audi A8 - Type: Car\n",
      "\n",
      "Query: What features do luxury cars have?\n",
      "Results:\n",
      "1. Luxury cars typically feature: 1. Elegant designs, 2. Advanced safety features, 3. High-quality engineering, 4. Performance enhancements (like all-wheel drive), 5. A focus on comfortable driving experiences, and 6. Innovative technology.\n",
      "\n",
      "Query: Tell me about vehicle manufacturers and their relationships\n",
      "Results:\n",
      "1. 1. **BMW**: Competes with Mercedes-Benz and is a subsidiary of Volkswagen.\n",
      "2. **Mercedes-Benz**: Competes with BMW and is also a subsidiary of Volkswagen.\n",
      "3. **Porsche**: A subsidiary of Volkswagen.\n",
      "4. **Volkswagen**: Parent company for both BMW, Mercedes-Benz, and Porsche. \n",
      "5. **Audi**: Not directly related in the provided relationships but is part of the larger context of vehicle manufacturers.\n"
     ]
    }
   ],
   "execution_count": 14
  },
  {
   "cell_type": "markdown",
   "id": "e24404e0",
   "metadata": {},
   "source": [
    "\n",
    "## 6. Key Differences and Benefits\n",
    "\n",
    "### Without Ontology:\n",
    "- **Knowledge is limited to extracted information**: Only relationships and entities explicitly mentioned in the text are captured\n",
    "- **No hierarchical understanding**: Lacks class/subclass relationships unless explicitly stated\n",
    "- **Missing implicit connections**: Cannot infer relationships that weren't explicitly stated\n",
    "- **Domain knowledge is limited**: No external domain knowledge beyond the processed content\n",
    "\n",
    "### With Ontology:\n",
    "- **Enhanced semantic understanding**: Integration with domain ontologies provides richer semantic context\n",
    "- **Hierarchical relationships**: Class/subclass relationships from the ontology enrich the graph\n",
    "- **Inference capabilities**: Can infer relationships based on ontological axioms\n",
    "- **Domain knowledge enrichment**: External knowledge from the ontology supplements extracted information\n",
    "- **Standardized terminology**: Entities are mapped to standardized ontology concepts\n",
    "- **Better query answering**: More comprehensive answers due to extended knowledge\n",
    "\n",
    "## 7. Visualizations and Metrics\n",
    "\n",
    "Here are some key metrics to observe in the visualizations:\n",
    "\n",
    "1. **Node count**: The ontology-enhanced graph typically has more nodes\n",
    "2. **Edge density**: More connections between nodes in the ontology version\n",
    "3. **Clustering coefficient**: Often higher in the ontology version due to richer relationships\n",
    "4. **Average path length**: May be shorter in the ontology version due to additional connections\n",
    "5. **Connected components**: The ontology version usually has fewer isolated subgraphs\n",
    "\n",
    "## 8. Running the Demo\n",
    "\n",
    "Execute the following to run the complete demo:\n",
    "\n"
   ]
  },
  {
   "cell_type": "code",
   "id": "69292dd6",
   "metadata": {
    "ExecuteTime": {
     "end_time": "2025-02-28T00:14:30.002445Z",
     "start_time": "2025-02-28T00:14:29.999495Z"
    }
   },
   "source": "",
   "outputs": [],
   "execution_count": null
  },
  {
   "cell_type": "code",
   "id": "cad9819200293b7e",
   "metadata": {
    "ExecuteTime": {
     "end_time": "2025-02-28T00:14:31.204508Z",
     "start_time": "2025-02-28T00:14:31.202635Z"
    }
   },
   "source": [],
   "outputs": [],
   "execution_count": null
  },
  {
   "cell_type": "code",
   "id": "90ff3c07ac4b13d6",
   "metadata": {
    "ExecuteTime": {
     "end_time": "2025-02-28T00:14:32.881376Z",
     "start_time": "2025-02-28T00:14:32.879735Z"
    }
   },
   "source": "",
   "outputs": [],
   "execution_count": null
  },
  {
   "cell_type": "code",
   "id": "cc439d80dfdacae",
   "metadata": {
    "ExecuteTime": {
     "end_time": "2025-02-28T00:14:33.253989Z",
     "start_time": "2025-02-28T00:14:33.252439Z"
    }
   },
   "source": "",
   "outputs": [],
   "execution_count": null
  },
  {
   "cell_type": "code",
   "execution_count": null,
   "id": "ad409b4264dcc4",
   "metadata": {},
   "outputs": [],
   "source": []
  }
 ],
 "metadata": {
  "kernelspec": {
   "display_name": "cognee-3fVNbOG1-py3.11",
   "language": "python",
   "name": "python3"
  },
  "language_info": {
   "codemirror_mode": {
    "name": "ipython",
    "version": 2
   },
   "file_extension": ".py",
   "mimetype": "text/x-python",
   "name": "python",
   "nbconvert_exporter": "python",
   "pygments_lexer": "ipython2",
   "version": "3.11.0"
  }
 },
 "nbformat": 4,
 "nbformat_minor": 5
}
