{
 "cells": [
  {
   "cell_type": "code",
   "execution_count": null,
   "id": "initial_id",
   "metadata": {
    "collapsed": true
   },
   "outputs": [],
   "source": [
    "GitHub Developer Analysis - Step by Step\n",
    "This notebook demonstrates how to analyze a GitHub developer's profile, repositories, and activities step by step using the Cognee pipeline. Each step in the pipeline is executed separately, allowing you to observe the knowledge graph evolving as more data is added.\n"
   ]
  },
  {
   "metadata": {},
   "cell_type": "code",
   "outputs": [],
   "execution_count": null,
   "source": "Initial Setup",
   "id": "6010c1a45524468f"
  },
  {
   "metadata": {
    "ExecuteTime": {
     "end_time": "2025-03-24T17:29:03.646755Z",
     "start_time": "2025-03-24T17:29:03.642074Z"
    }
   },
   "cell_type": "code",
   "source": [
    "import asyncio\n",
    "import logging\n",
    "import os\n",
    "import sys\n",
    "from pathlib import Path\n",
    "\n",
    "# Set up logging\n",
    "logging.basicConfig(level=logging.INFO)\n",
    "logger = logging.getLogger(__name__)"
   ],
   "id": "e008b7e7d6f7f5db",
   "outputs": [],
   "execution_count": 1
  },
  {
   "metadata": {
    "ExecuteTime": {
     "end_time": "2025-03-24T17:48:18.074247Z",
     "start_time": "2025-03-24T17:48:17.900471Z"
    }
   },
   "cell_type": "code",
   "source": [
    "# Import necessary modules\n",
    "from cognee.api.v1.cognify.github_developer_pipeline import run_github_developer_pipeline\n",
    "from cognee.modules.data.deletion import prune_data, prune_system\n",
    "from cognee.api.v1.visualize.visualize import visualize_graph\n",
    "from cognee.tasks.github.config import get_github_settings\n",
    "from IPython.display import IFrame, HTML, display\n",
    "import os"
   ],
   "id": "8913348fd99aeb8c",
   "outputs": [],
   "execution_count": 4
  },
  {
   "metadata": {
    "ExecuteTime": {
     "end_time": "2025-03-24T17:48:22.060069Z",
     "start_time": "2025-03-24T17:48:22.046204Z"
    }
   },
   "cell_type": "code",
   "source": [
    "# Set GitHub username to analyze\n",
    "github_username = \"Vasilije1990\"  # Replace with the username you want to analyze\n",
    "\n",
    "# Get GitHub API token from environment or settings\n",
    "api_token = get_github_settings().GITHUB_API_TOKEN\n",
    "if api_token:\n",
    "    print(f\"✅ Using GitHub API token from environment/settings\")\n",
    "else:\n",
    "    print(\"⚠️ No GitHub API token found. Using unauthenticated API access (rate limits may apply).\")\n",
    "    print(\"   To set a token, you can create a .env file with GITHUB_API_TOKEN=your_token\")"
   ],
   "id": "67d73632bd40be81",
   "outputs": [
    {
     "name": "stdout",
     "output_type": "stream",
     "text": [
      "✅ Using GitHub API token from environment/settings\n"
     ]
    }
   ],
   "execution_count": 5
  },
  {
   "metadata": {
    "ExecuteTime": {
     "end_time": "2025-03-24T17:48:24.773728Z",
     "start_time": "2025-03-24T17:48:24.675281Z"
    }
   },
   "cell_type": "code",
   "source": [
    "async def clean_database():\n",
    "    \"\"\"Clean the existing database\"\"\"\n",
    "    print(\"🧹 Cleaning existing database...\")\n",
    "    await prune_data()\n",
    "    await prune_system(metadata=True)\n",
    "    print(\"✅ Database cleaned successfully\")\n",
    "\n",
    "await clean_database()"
   ],
   "id": "632249e5acc94c66",
   "outputs": [
    {
     "name": "stderr",
     "output_type": "stream",
     "text": [
      "INFO:cognee.infrastructure.databases.graph.networkx.adapter:Graph deleted successfully.INFO:cognee.infrastructure.databases.relational.sqlalchemy.SqlAlchemyAdapter:Database deleted successfully."
     ]
    },
    {
     "name": "stdout",
     "output_type": "stream",
     "text": [
      "🧹 Cleaning existing database...\n",
      "✅ Database cleaned successfully\n"
     ]
    }
   ],
   "execution_count": 6
  },
  {
   "metadata": {
    "ExecuteTime": {
     "end_time": "2025-03-24T17:50:19.708257Z",
     "start_time": "2025-03-24T17:50:19.701993Z"
    }
   },
   "cell_type": "code",
   "source": [
    "async def show_graph():\n",
    "    \"\"\"Visualize the current state of the knowledge graph\"\"\"\n",
    "    print(\"🔍 Generating graph visualization...\")\n",
    "    # Generate the visualization HTML\n",
    "    visualization_path = os.path.join(os.getcwd(), \"github_graph_visualization.html\")\n",
    "    html_content = await visualize_graph(visualization_path)\n",
    "    \n",
    "    # Display the graph in the notebook\n",
    "    display(IFrame(src=visualization_path, width=\"100%\", height=600))\n",
    "    print(f\"✅ Graph visualization saved to {visualization_path}\")"
   ],
   "id": "1f6fe0c47e9a5e93",
   "outputs": [],
   "execution_count": 7
  },
  {
   "metadata": {
    "ExecuteTime": {
     "end_time": "2025-03-24T17:50:30.790013Z",
     "start_time": "2025-03-24T17:50:29.294552Z"
    }
   },
   "cell_type": "code",
   "source": [
    "async def run_fetch_repositories():\n",
    "    \"\"\"Run the fetch_repositories task\"\"\"\n",
    "    print(f\"📋 Fetching repositories for {github_username}...\")\n",
    "    task_count = 0\n",
    "    async for status in run_github_developer_pipeline(github_username, api_token, [\"fetch_repositories\"]):\n",
    "        task_count += 1\n",
    "        print(f\"⏳ Task {task_count} completed: {status}\")\n",
    "    print(\"✅ Repository fetching completed\")\n",
    "\n",
    "await run_fetch_repositories()\n",
    "await show_graph()"
   ],
   "id": "c5542ccea004efa2",
   "outputs": [
    {
     "name": "stderr",
     "output_type": "stream",
     "text": [
      "WARNING:langfuse:Langfuse client is disabled since no public_key was provided as a parameter or environment variable 'LANGFUSE_PUBLIC_KEY'. See our docs: https://langfuse.com/docs/sdk/python/low-level-sdk#initialize-clientWARNING:cognee.infrastructure.databases.graph.networkx.adapter:File /Users/vasilije/cognee/cognee/.cognee_system/databases/cognee_graph.pkl not found. Initializing an empty graph.INFO:cognee.infrastructure.databases.graph.networkx.adapter:Graph deleted successfully.INFO:cognee.infrastructure.databases.relational.sqlalchemy.SqlAlchemyAdapter:Database deleted successfully."
     ]
    },
    {
     "name": "stdout",
     "output_type": "stream",
     "text": [
      "📋 Fetching repositories for Vasilije1990...\n",
      "User 37cf9b76-54cb-467e-9c6d-848ec057fbe2 has registered.\n",
      "⏳ Task 1 completed: Starting task: fetch_repositories\n",
      "⏳ Task 2 completed: fetch_repositories: processed Developer\n"
     ]
    },
    {
     "name": "stderr",
     "output_type": "stream",
     "text": [
      "WARNING:cognee.infrastructure.databases.graph.networkx.adapter:File /Users/vasilije/cognee/cognee/.cognee_system/databases/cognee_graph.pkl not found. Initializing an empty graph.ERROR:cognee.infrastructure.databases.graph.networkx.adapter:Failed to load graph from file: /Users/vasilije/cognee/cognee/.cognee_system/databases/cognee_graph.pkl"
     ]
    },
    {
     "name": "stdout",
     "output_type": "stream",
     "text": [
      "⏳ Task 3 completed: fetch_repositories: processed Repository\n",
      "⏳ Task 4 completed: fetch_repositories: processed Edge\n",
      "⏳ Task 5 completed: fetch_repositories: processed Repository\n",
      "⏳ Task 6 completed: fetch_repositories: processed Edge\n",
      "⏳ Task 7 completed: fetch_repositories: processed Repository\n",
      "⏳ Task 8 completed: fetch_repositories: processed Edge\n",
      "⏳ Task 9 completed: fetch_repositories: processed Repository\n",
      "⏳ Task 10 completed: fetch_repositories: processed Edge\n",
      "⏳ Task 11 completed: fetch_repositories: processed Repository\n",
      "⏳ Task 12 completed: Added 10 data points to graph\n",
      "⏳ Task 13 completed: fetch_repositories: processed Edge\n"
     ]
    },
    {
     "name": "stderr",
     "output_type": "stream",
     "text": [
      "INFO:cognee.modules.visualization.cognee_network_visualization:Graph visualization saved as /Users/vasilije/cognee/notebooks/github_graph_visualization.htmlINFO:root:The HTML file has been stored at path: /Users/vasilije/cognee/notebooks/github_graph_visualization.html"
     ]
    },
    {
     "name": "stdout",
     "output_type": "stream",
     "text": [
      "⏳ Task 14 completed: Added final 1 data points to graph\n",
      "⏳ Task 15 completed: fetch_repositories: Found 5 repositories and 1 developers\n",
      "✅ Repository fetching completed\n",
      "🔍 Generating graph visualization...\n"
     ]
    },
    {
     "data": {
      "text/plain": [
       "<IPython.lib.display.IFrame at 0x367867f50>"
      ],
      "text/html": [
       "\n",
       "        <iframe\n",
       "            width=\"100%\"\n",
       "            height=\"600\"\n",
       "            src=\"/Users/vasilije/cognee/notebooks/github_graph_visualization.html\"\n",
       "            frameborder=\"0\"\n",
       "            allowfullscreen\n",
       "            \n",
       "        ></iframe>\n",
       "        "
      ]
     },
     "metadata": {},
     "output_type": "display_data"
    },
    {
     "name": "stdout",
     "output_type": "stream",
     "text": [
      "✅ Graph visualization saved to /Users/vasilije/cognee/notebooks/github_graph_visualization.html\n"
     ]
    }
   ],
   "execution_count": 8
  },
  {
   "metadata": {},
   "cell_type": "code",
   "outputs": [],
   "execution_count": null,
   "source": [
    "async def run_fetch_contributors():\n",
    "    \"\"\"Run the fetch_contributors task\"\"\"\n",
    "    print(\"👥 Fetching contributors for repositories...\")\n",
    "    task_count = 0\n",
    "    async for status in run_github_developer_pipeline(github_username, api_token, [\"fetch_contributors\"]):\n",
    "        task_count += 1\n",
    "        print(f\"⏳ Task {task_count} completed: {status}\")\n",
    "    print(\"✅ Contributors fetching completed\")\n",
    "\n",
    "await run_fetch_contributors()\n",
    "await show_graph()"
   ],
   "id": "919c970ff2ed568a"
  },
  {
   "metadata": {},
   "cell_type": "code",
   "outputs": [],
   "execution_count": null,
   "source": [
    "async def run_fetch_readmes():\n",
    "    \"\"\"Run the fetch_readmes task\"\"\"\n",
    "    print(\"📄 Fetching README documents for repositories...\")\n",
    "    task_count = 0\n",
    "    async for status in run_github_developer_pipeline(github_username, api_token, [\"fetch_readmes\"]):\n",
    "        task_count += 1\n",
    "        print(f\"⏳ Task {task_count} completed: {status}\")\n",
    "    print(\"✅ README fetching completed\")\n",
    "\n",
    "await run_fetch_readmes()\n",
    "await show_graph()"
   ],
   "id": "5c9aa593680d180e"
  },
  {
   "metadata": {},
   "cell_type": "code",
   "outputs": [],
   "execution_count": null,
   "source": [
    "async def run_summarize_readmes():\n",
    "    \"\"\"Run the summarize_readmes task\"\"\"\n",
    "    print(\"🤖 Generating summaries for README documents using LLM...\")\n",
    "    task_count = 0\n",
    "    async for status in run_github_developer_pipeline(github_username, api_token, [\"summarize_readmes\"]):\n",
    "        task_count += 1\n",
    "        print(f\"⏳ Task {task_count} completed: {status}\")\n",
    "    print(\"✅ README summarization completed\")\n",
    "\n",
    "await run_summarize_readmes()\n",
    "await show_graph()"
   ],
   "id": "2309379481848f29"
  },
  {
   "metadata": {},
   "cell_type": "code",
   "outputs": [],
   "execution_count": null,
   "source": [
    "async def run_fetch_pull_requests():\n",
    "    \"\"\"Run the fetch_pull_requests task\"\"\"\n",
    "    print(\"🔄 Fetching pull requests and comments...\")\n",
    "    task_count = 0\n",
    "    async for status in run_github_developer_pipeline(github_username, api_token, [\"fetch_pull_requests\"]):\n",
    "        task_count += 1\n",
    "        print(f\"⏳ Task {task_count} completed: {status}\")\n",
    "    print(\"✅ Pull requests fetching completed\")\n",
    "\n",
    "await run_fetch_pull_requests()\n",
    "await show_graph()"
   ],
   "id": "8b14aa21e605fe76"
  },
  {
   "metadata": {},
   "cell_type": "code",
   "outputs": [],
   "execution_count": null,
   "source": [
    "async def run_analyze_pr_sentiment():\n",
    "    \"\"\"Run the analyze_pr_sentiment task\"\"\"\n",
    "    print(\"😀 Analyzing pull request discussions sentiment...\")\n",
    "    task_count = 0\n",
    "    async for status in run_github_developer_pipeline(github_username, api_token, [\"analyze_pr_sentiment\"]):\n",
    "        task_count += 1\n",
    "        print(f\"⏳ Task {task_count} completed: {status}\")\n",
    "    print(\"✅ PR sentiment analysis completed\")\n",
    "\n",
    "await run_analyze_pr_sentiment()\n",
    "await show_graph()"
   ],
   "id": "7a7ea8bab195cf2d"
  },
  {
   "metadata": {},
   "cell_type": "code",
   "outputs": [],
   "execution_count": null,
   "source": [
    "async def run_build_collaboration():\n",
    "    \"\"\"Run the build_collaboration task\"\"\"\n",
    "    print(\"🌐 Building collaboration network...\")\n",
    "    task_count = 0\n",
    "    async for status in run_github_developer_pipeline(github_username, api_token, [\"build_collaboration\"]):\n",
    "        task_count += 1\n",
    "        print(f\"⏳ Task {task_count} completed: {status}\")\n",
    "    print(\"✅ Collaboration network building completed\")\n",
    "\n",
    "await run_build_collaboration()\n",
    "await show_graph()"
   ],
   "id": "b5a9d476af3483ef"
  },
  {
   "metadata": {},
   "cell_type": "code",
   "outputs": [],
   "execution_count": null,
   "source": [
    "async def run_analyze_network():\n",
    "    \"\"\"Run the analyze_network task\"\"\"\n",
    "    print(\"📊 Analyzing developer network metrics...\")\n",
    "    task_count = 0\n",
    "    async for status in run_github_developer_pipeline(github_username, api_token, [\"analyze_network\"]):\n",
    "        task_count += 1\n",
    "        print(f\"⏳ Task {task_count} completed: {status}\")\n",
    "    print(\"✅ Network analysis completed\")\n",
    "\n",
    "await run_analyze_network()\n",
    "await show_graph()"
   ],
   "id": "7e5b1195c94191a5"
  },
  {
   "metadata": {},
   "cell_type": "code",
   "outputs": [],
   "execution_count": null,
   "source": [
    "async def run_generate_developer_summary():\n",
    "    \"\"\"Run the generate_developer_summary task\"\"\"\n",
    "    print(\"📝 Generating developer profile summary with LLM...\")\n",
    "    task_count = 0\n",
    "    async for status in run_github_developer_pipeline(github_username, api_token, [\"generate_developer_summary\"]):\n",
    "        task_count += 1\n",
    "        print(f\"⏳ Task {task_count} completed: {status}\")\n",
    "    print(\"✅ Developer summary generation completed\")\n",
    "\n",
    "await run_generate_developer_summary()\n",
    "await show_graph()"
   ],
   "id": "c0f0d1fc93dbc665"
  }
 ],
 "metadata": {
  "kernelspec": {
   "display_name": "Python 3",
   "language": "python",
   "name": "python3"
  },
  "language_info": {
   "codemirror_mode": {
    "name": "ipython",
    "version": 2
   },
   "file_extension": ".py",
   "mimetype": "text/x-python",
   "name": "python",
   "nbconvert_exporter": "python",
   "pygments_lexer": "ipython2",
   "version": "2.7.6"
  }
 },
 "nbformat": 4,
 "nbformat_minor": 5
}
