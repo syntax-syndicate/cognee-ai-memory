{
 "cells": [
  {
   "cell_type": "code",
   "execution_count": 1,
   "metadata": {},
   "outputs": [
    {
     "name": "stdout",
     "output_type": "stream",
     "text": [
      "Requirement already satisfied: cognee in /Users/handekafkas/Documents/local-code/new-cognee/cognee/.venv/lib/python3.11/site-packages (0.1.34)\n",
      "Requirement already satisfied: aiofiles<24.0.0,>=23.2.1 in /Users/handekafkas/Documents/local-code/new-cognee/cognee/.venv/lib/python3.11/site-packages (from cognee) (23.2.1)\n",
      "Requirement already satisfied: aiohttp==3.10.10 in /Users/handekafkas/Documents/local-code/new-cognee/cognee/.venv/lib/python3.11/site-packages (from cognee) (3.10.10)\n",
      "Requirement already satisfied: aiosqlite<0.21.0,>=0.20.0 in /Users/handekafkas/Documents/local-code/new-cognee/cognee/.venv/lib/python3.11/site-packages (from cognee) (0.20.0)\n",
      "Requirement already satisfied: alembic<2.0.0,>=1.13.3 in /Users/handekafkas/Documents/local-code/new-cognee/cognee/.venv/lib/python3.11/site-packages (from cognee) (1.15.1)\n",
      "Requirement already satisfied: anthropic<0.27.0,>=0.26.1 in /Users/handekafkas/Documents/local-code/new-cognee/cognee/.venv/lib/python3.11/site-packages (from cognee) (0.26.1)\n",
      "Requirement already satisfied: bokeh<4.0.0,>=3.6.2 in /Users/handekafkas/Documents/local-code/new-cognee/cognee/.venv/lib/python3.11/site-packages (from cognee) (3.6.3)\n",
      "Requirement already satisfied: boto3<2.0.0,>=1.26.125 in /Users/handekafkas/Documents/local-code/new-cognee/cognee/.venv/lib/python3.11/site-packages (from cognee) (1.37.11)\n",
      "Requirement already satisfied: chromadb<0.7.0,>=0.6.0 in /Users/handekafkas/Documents/local-code/new-cognee/cognee/.venv/lib/python3.11/site-packages (from cognee) (0.6.3)\n",
      "Requirement already satisfied: datasets==3.1.0 in /Users/handekafkas/Documents/local-code/new-cognee/cognee/.venv/lib/python3.11/site-packages (from cognee) (3.1.0)\n",
      "Requirement already satisfied: dlt<2.0.0,>=1.4.1 in /Users/handekafkas/Documents/local-code/new-cognee/cognee/.venv/lib/python3.11/site-packages (from dlt[sqlalchemy]<2.0.0,>=1.4.1->cognee) (1.8.1)\n",
      "Requirement already satisfied: fastapi==0.115.7 in /Users/handekafkas/Documents/local-code/new-cognee/cognee/.venv/lib/python3.11/site-packages (from cognee) (0.115.7)\n",
      "Requirement already satisfied: fastapi-users==14.0.0 in /Users/handekafkas/Documents/local-code/new-cognee/cognee/.venv/lib/python3.11/site-packages (from fastapi-users[sqlalchemy]==14.0.0->cognee) (14.0.0)\n",
      "Requirement already satisfied: filetype<2.0.0,>=1.2.0 in /Users/handekafkas/Documents/local-code/new-cognee/cognee/.venv/lib/python3.11/site-packages (from cognee) (1.2.0)\n",
      "Requirement already satisfied: graphistry<0.34.0,>=0.33.5 in /Users/handekafkas/Documents/local-code/new-cognee/cognee/.venv/lib/python3.11/site-packages (from cognee) (0.33.9)\n",
      "Requirement already satisfied: gunicorn<21.0.0,>=20.1.0 in /Users/handekafkas/Documents/local-code/new-cognee/cognee/.venv/lib/python3.11/site-packages (from cognee) (20.1.0)\n",
      "Requirement already satisfied: httpx==0.27.0 in /Users/handekafkas/Documents/local-code/new-cognee/cognee/.venv/lib/python3.11/site-packages (from cognee) (0.27.0)\n",
      "Requirement already satisfied: instructor==1.7.2 in /Users/handekafkas/Documents/local-code/new-cognee/cognee/.venv/lib/python3.11/site-packages (from cognee) (1.7.2)\n",
      "Requirement already satisfied: jinja2<4.0.0,>=3.1.3 in /Users/handekafkas/Documents/local-code/new-cognee/cognee/.venv/lib/python3.11/site-packages (from cognee) (3.1.6)\n",
      "Requirement already satisfied: lancedb==0.16.0 in /Users/handekafkas/Documents/local-code/new-cognee/cognee/.venv/lib/python3.11/site-packages (from cognee) (0.16.0)\n",
      "Requirement already satisfied: langdetect==1.0.9 in /Users/handekafkas/Documents/local-code/new-cognee/cognee/.venv/lib/python3.11/site-packages (from cognee) (1.0.9)\n",
      "Requirement already satisfied: langfuse<3.0.0,>=2.32.0 in /Users/handekafkas/Documents/local-code/new-cognee/cognee/.venv/lib/python3.11/site-packages (from cognee) (2.59.7)\n",
      "Requirement already satisfied: litellm>=1.57.4 in /Users/handekafkas/Documents/local-code/new-cognee/cognee/.venv/lib/python3.11/site-packages (from cognee) (1.63.6)\n",
      "Requirement already satisfied: matplotlib<4.0.0,>=3.8.3 in /Users/handekafkas/Documents/local-code/new-cognee/cognee/.venv/lib/python3.11/site-packages (from cognee) (3.10.1)\n",
      "Requirement already satisfied: nest_asyncio==1.6.0 in /Users/handekafkas/Documents/local-code/new-cognee/cognee/.venv/lib/python3.11/site-packages (from cognee) (1.6.0)\n",
      "Requirement already satisfied: networkx<4.0.0,>=3.2.1 in /Users/handekafkas/Documents/local-code/new-cognee/cognee/.venv/lib/python3.11/site-packages (from cognee) (3.4.2)\n",
      "Requirement already satisfied: nltk==3.9.1 in /Users/handekafkas/Documents/local-code/new-cognee/cognee/.venv/lib/python3.11/site-packages (from cognee) (3.9.1)\n",
      "Requirement already satisfied: numpy==1.26.4 in /Users/handekafkas/Documents/local-code/new-cognee/cognee/.venv/lib/python3.11/site-packages (from cognee) (1.26.4)\n",
      "Requirement already satisfied: openai<2.0.0,>=1.59.4 in /Users/handekafkas/Documents/local-code/new-cognee/cognee/.venv/lib/python3.11/site-packages (from cognee) (1.66.2)\n",
      "Requirement already satisfied: owlready2<0.48,>=0.47 in /Users/handekafkas/Documents/local-code/new-cognee/cognee/.venv/lib/python3.11/site-packages (from cognee) (0.47)\n",
      "Requirement already satisfied: pandas==2.2.3 in /Users/handekafkas/Documents/local-code/new-cognee/cognee/.venv/lib/python3.11/site-packages (from cognee) (2.2.3)\n",
      "Requirement already satisfied: pre-commit<5.0.0,>=4.0.1 in /Users/handekafkas/Documents/local-code/new-cognee/cognee/.venv/lib/python3.11/site-packages (from cognee) (4.1.0)\n",
      "Requirement already satisfied: pydantic==2.10.5 in /Users/handekafkas/Documents/local-code/new-cognee/cognee/.venv/lib/python3.11/site-packages (from cognee) (2.10.5)\n",
      "Requirement already satisfied: pydantic-settings<3.0.0,>=2.2.1 in /Users/handekafkas/Documents/local-code/new-cognee/cognee/.venv/lib/python3.11/site-packages (from cognee) (2.8.1)\n",
      "Requirement already satisfied: pypdf<6.0.0,>=4.1.0 in /Users/handekafkas/Documents/local-code/new-cognee/cognee/.venv/lib/python3.11/site-packages (from cognee) (5.3.1)\n",
      "Requirement already satisfied: python-dotenv==1.0.1 in /Users/handekafkas/Documents/local-code/new-cognee/cognee/.venv/lib/python3.11/site-packages (from cognee) (1.0.1)\n",
      "Requirement already satisfied: requests==2.32.3 in /Users/handekafkas/Documents/local-code/new-cognee/cognee/.venv/lib/python3.11/site-packages (from cognee) (2.32.3)\n",
      "Requirement already satisfied: scikit-learn<2.0.0,>=1.5.0 in /Users/handekafkas/Documents/local-code/new-cognee/cognee/.venv/lib/python3.11/site-packages (from cognee) (1.6.1)\n",
      "Requirement already satisfied: sentry-sdk<3.0.0,>=2.9.0 in /Users/handekafkas/Documents/local-code/new-cognee/cognee/.venv/lib/python3.11/site-packages (from sentry-sdk[fastapi]<3.0.0,>=2.9.0->cognee) (2.22.0)\n",
      "Requirement already satisfied: sqlalchemy==2.0.36 in /Users/handekafkas/Documents/local-code/new-cognee/cognee/.venv/lib/python3.11/site-packages (from cognee) (2.0.36)\n",
      "Requirement already satisfied: tenacity<10.0.0,>=9.0.0 in /Users/handekafkas/Documents/local-code/new-cognee/cognee/.venv/lib/python3.11/site-packages (from cognee) (9.0.0)\n",
      "Requirement already satisfied: tiktoken<=0.9.0 in /Users/handekafkas/Documents/local-code/new-cognee/cognee/.venv/lib/python3.11/site-packages (from cognee) (0.9.0)\n",
      "Requirement already satisfied: typing_extensions==4.12.2 in /Users/handekafkas/Documents/local-code/new-cognee/cognee/.venv/lib/python3.11/site-packages (from cognee) (4.12.2)\n",
      "Requirement already satisfied: uvicorn==0.34.0 in /Users/handekafkas/Documents/local-code/new-cognee/cognee/.venv/lib/python3.11/site-packages (from cognee) (0.34.0)\n",
      "Requirement already satisfied: aiohappyeyeballs>=2.3.0 in /Users/handekafkas/Documents/local-code/new-cognee/cognee/.venv/lib/python3.11/site-packages (from aiohttp==3.10.10->cognee) (2.6.1)\n",
      "Requirement already satisfied: aiosignal>=1.1.2 in /Users/handekafkas/Documents/local-code/new-cognee/cognee/.venv/lib/python3.11/site-packages (from aiohttp==3.10.10->cognee) (1.3.2)\n",
      "Requirement already satisfied: attrs>=17.3.0 in /Users/handekafkas/Documents/local-code/new-cognee/cognee/.venv/lib/python3.11/site-packages (from aiohttp==3.10.10->cognee) (25.2.0)\n",
      "Requirement already satisfied: frozenlist>=1.1.1 in /Users/handekafkas/Documents/local-code/new-cognee/cognee/.venv/lib/python3.11/site-packages (from aiohttp==3.10.10->cognee) (1.5.0)\n",
      "Requirement already satisfied: multidict<7.0,>=4.5 in /Users/handekafkas/Documents/local-code/new-cognee/cognee/.venv/lib/python3.11/site-packages (from aiohttp==3.10.10->cognee) (6.1.0)\n",
      "Requirement already satisfied: yarl<2.0,>=1.12.0 in /Users/handekafkas/Documents/local-code/new-cognee/cognee/.venv/lib/python3.11/site-packages (from aiohttp==3.10.10->cognee) (1.18.3)\n",
      "Requirement already satisfied: filelock in /Users/handekafkas/Documents/local-code/new-cognee/cognee/.venv/lib/python3.11/site-packages (from datasets==3.1.0->cognee) (3.17.0)\n",
      "Requirement already satisfied: pyarrow>=15.0.0 in /Users/handekafkas/Documents/local-code/new-cognee/cognee/.venv/lib/python3.11/site-packages (from datasets==3.1.0->cognee) (19.0.1)\n",
      "Requirement already satisfied: dill<0.3.9,>=0.3.0 in /Users/handekafkas/Documents/local-code/new-cognee/cognee/.venv/lib/python3.11/site-packages (from datasets==3.1.0->cognee) (0.3.8)\n",
      "Requirement already satisfied: tqdm>=4.66.3 in /Users/handekafkas/Documents/local-code/new-cognee/cognee/.venv/lib/python3.11/site-packages (from datasets==3.1.0->cognee) (4.67.1)\n",
      "Requirement already satisfied: xxhash in /Users/handekafkas/Documents/local-code/new-cognee/cognee/.venv/lib/python3.11/site-packages (from datasets==3.1.0->cognee) (3.5.0)\n",
      "Requirement already satisfied: multiprocess<0.70.17 in /Users/handekafkas/Documents/local-code/new-cognee/cognee/.venv/lib/python3.11/site-packages (from datasets==3.1.0->cognee) (0.70.16)\n",
      "Requirement already satisfied: fsspec<=2024.9.0,>=2023.1.0 in /Users/handekafkas/Documents/local-code/new-cognee/cognee/.venv/lib/python3.11/site-packages (from fsspec[http]<=2024.9.0,>=2023.1.0->datasets==3.1.0->cognee) (2024.9.0)\n",
      "Requirement already satisfied: huggingface-hub>=0.23.0 in /Users/handekafkas/Documents/local-code/new-cognee/cognee/.venv/lib/python3.11/site-packages (from datasets==3.1.0->cognee) (0.29.3)\n",
      "Requirement already satisfied: packaging in /Users/handekafkas/Documents/local-code/new-cognee/cognee/.venv/lib/python3.11/site-packages (from datasets==3.1.0->cognee) (24.2)\n",
      "Requirement already satisfied: pyyaml>=5.1 in /Users/handekafkas/Documents/local-code/new-cognee/cognee/.venv/lib/python3.11/site-packages (from datasets==3.1.0->cognee) (6.0.2)\n",
      "Requirement already satisfied: starlette<0.46.0,>=0.40.0 in /Users/handekafkas/Documents/local-code/new-cognee/cognee/.venv/lib/python3.11/site-packages (from fastapi==0.115.7->cognee) (0.45.3)\n",
      "Requirement already satisfied: email-validator<2.3,>=1.1.0 in /Users/handekafkas/Documents/local-code/new-cognee/cognee/.venv/lib/python3.11/site-packages (from fastapi-users==14.0.0->fastapi-users[sqlalchemy]==14.0.0->cognee) (2.2.0)\n",
      "Requirement already satisfied: makefun<2.0.0,>=1.11.2 in /Users/handekafkas/Documents/local-code/new-cognee/cognee/.venv/lib/python3.11/site-packages (from fastapi-users==14.0.0->fastapi-users[sqlalchemy]==14.0.0->cognee) (1.15.6)\n",
      "Requirement already satisfied: pwdlib==0.2.1 in /Users/handekafkas/Documents/local-code/new-cognee/cognee/.venv/lib/python3.11/site-packages (from pwdlib[argon2,bcrypt]==0.2.1->fastapi-users==14.0.0->fastapi-users[sqlalchemy]==14.0.0->cognee) (0.2.1)\n",
      "Requirement already satisfied: pyjwt==2.9.0 in /Users/handekafkas/Documents/local-code/new-cognee/cognee/.venv/lib/python3.11/site-packages (from pyjwt[crypto]==2.9.0->fastapi-users==14.0.0->fastapi-users[sqlalchemy]==14.0.0->cognee) (2.9.0)\n",
      "Requirement already satisfied: python-multipart==0.0.17 in /Users/handekafkas/Documents/local-code/new-cognee/cognee/.venv/lib/python3.11/site-packages (from fastapi-users==14.0.0->fastapi-users[sqlalchemy]==14.0.0->cognee) (0.0.17)\n",
      "Requirement already satisfied: fastapi-users-db-sqlalchemy>=6.0.0 in /Users/handekafkas/Documents/local-code/new-cognee/cognee/.venv/lib/python3.11/site-packages (from fastapi-users[sqlalchemy]==14.0.0->cognee) (7.0.0)\n",
      "Requirement already satisfied: anyio in /Users/handekafkas/Documents/local-code/new-cognee/cognee/.venv/lib/python3.11/site-packages (from httpx==0.27.0->cognee) (4.8.0)\n",
      "Requirement already satisfied: certifi in /Users/handekafkas/Documents/local-code/new-cognee/cognee/.venv/lib/python3.11/site-packages (from httpx==0.27.0->cognee) (2025.1.31)\n",
      "Requirement already satisfied: httpcore==1.* in /Users/handekafkas/Documents/local-code/new-cognee/cognee/.venv/lib/python3.11/site-packages (from httpx==0.27.0->cognee) (1.0.7)\n",
      "Requirement already satisfied: idna in /Users/handekafkas/Documents/local-code/new-cognee/cognee/.venv/lib/python3.11/site-packages (from httpx==0.27.0->cognee) (3.10)\n",
      "Requirement already satisfied: sniffio in /Users/handekafkas/Documents/local-code/new-cognee/cognee/.venv/lib/python3.11/site-packages (from httpx==0.27.0->cognee) (1.3.1)\n",
      "Requirement already satisfied: docstring-parser<1.0,>=0.16 in /Users/handekafkas/Documents/local-code/new-cognee/cognee/.venv/lib/python3.11/site-packages (from instructor==1.7.2->cognee) (0.16)\n",
      "Requirement already satisfied: jiter<0.9,>=0.6.1 in /Users/handekafkas/Documents/local-code/new-cognee/cognee/.venv/lib/python3.11/site-packages (from instructor==1.7.2->cognee) (0.8.2)\n",
      "Requirement already satisfied: pydantic-core<3.0.0,>=2.18.0 in /Users/handekafkas/Documents/local-code/new-cognee/cognee/.venv/lib/python3.11/site-packages (from instructor==1.7.2->cognee) (2.27.2)\n",
      "Requirement already satisfied: rich<14.0.0,>=13.7.0 in /Users/handekafkas/Documents/local-code/new-cognee/cognee/.venv/lib/python3.11/site-packages (from instructor==1.7.2->cognee) (13.9.4)\n",
      "Requirement already satisfied: typer<1.0.0,>=0.9.0 in /Users/handekafkas/Documents/local-code/new-cognee/cognee/.venv/lib/python3.11/site-packages (from instructor==1.7.2->cognee) (0.15.2)\n",
      "Requirement already satisfied: deprecation in /Users/handekafkas/Documents/local-code/new-cognee/cognee/.venv/lib/python3.11/site-packages (from lancedb==0.16.0->cognee) (2.1.0)\n",
      "Requirement already satisfied: pylance==0.19.2 in /Users/handekafkas/Documents/local-code/new-cognee/cognee/.venv/lib/python3.11/site-packages (from lancedb==0.16.0->cognee) (0.19.2)\n",
      "Requirement already satisfied: overrides>=0.7 in /Users/handekafkas/Documents/local-code/new-cognee/cognee/.venv/lib/python3.11/site-packages (from lancedb==0.16.0->cognee) (7.7.0)\n",
      "Requirement already satisfied: six in /Users/handekafkas/Documents/local-code/new-cognee/cognee/.venv/lib/python3.11/site-packages (from langdetect==1.0.9->cognee) (1.17.0)\n",
      "Requirement already satisfied: click in /Users/handekafkas/Documents/local-code/new-cognee/cognee/.venv/lib/python3.11/site-packages (from nltk==3.9.1->cognee) (8.1.8)\n",
      "Requirement already satisfied: joblib in /Users/handekafkas/Documents/local-code/new-cognee/cognee/.venv/lib/python3.11/site-packages (from nltk==3.9.1->cognee) (1.4.2)\n",
      "Requirement already satisfied: regex>=2021.8.3 in /Users/handekafkas/Documents/local-code/new-cognee/cognee/.venv/lib/python3.11/site-packages (from nltk==3.9.1->cognee) (2024.11.6)\n",
      "Requirement already satisfied: python-dateutil>=2.8.2 in /Users/handekafkas/Documents/local-code/new-cognee/cognee/.venv/lib/python3.11/site-packages (from pandas==2.2.3->cognee) (2.9.0.post0)\n",
      "Requirement already satisfied: pytz>=2020.1 in /Users/handekafkas/Documents/local-code/new-cognee/cognee/.venv/lib/python3.11/site-packages (from pandas==2.2.3->cognee) (2025.1)\n",
      "Requirement already satisfied: tzdata>=2022.7 in /Users/handekafkas/Documents/local-code/new-cognee/cognee/.venv/lib/python3.11/site-packages (from pandas==2.2.3->cognee) (2025.1)\n",
      "Requirement already satisfied: annotated-types>=0.6.0 in /Users/handekafkas/Documents/local-code/new-cognee/cognee/.venv/lib/python3.11/site-packages (from pydantic==2.10.5->cognee) (0.7.0)\n",
      "Requirement already satisfied: charset-normalizer<4,>=2 in /Users/handekafkas/Documents/local-code/new-cognee/cognee/.venv/lib/python3.11/site-packages (from requests==2.32.3->cognee) (3.4.1)\n",
      "Requirement already satisfied: urllib3<3,>=1.21.1 in /Users/handekafkas/Documents/local-code/new-cognee/cognee/.venv/lib/python3.11/site-packages (from requests==2.32.3->cognee) (2.3.0)\n",
      "Requirement already satisfied: h11>=0.8 in /Users/handekafkas/Documents/local-code/new-cognee/cognee/.venv/lib/python3.11/site-packages (from uvicorn==0.34.0->cognee) (0.14.0)\n",
      "Requirement already satisfied: argon2-cffi<24,>=23.1.0 in /Users/handekafkas/Documents/local-code/new-cognee/cognee/.venv/lib/python3.11/site-packages (from pwdlib[argon2,bcrypt]==0.2.1->fastapi-users==14.0.0->fastapi-users[sqlalchemy]==14.0.0->cognee) (23.1.0)\n",
      "Requirement already satisfied: bcrypt<5,>=4.1.2 in /Users/handekafkas/Documents/local-code/new-cognee/cognee/.venv/lib/python3.11/site-packages (from pwdlib[argon2,bcrypt]==0.2.1->fastapi-users==14.0.0->fastapi-users[sqlalchemy]==14.0.0->cognee) (4.3.0)\n",
      "Requirement already satisfied: cryptography>=3.4.0 in /Users/handekafkas/Documents/local-code/new-cognee/cognee/.venv/lib/python3.11/site-packages (from pyjwt[crypto]==2.9.0->fastapi-users==14.0.0->fastapi-users[sqlalchemy]==14.0.0->cognee) (44.0.2)\n",
      "Requirement already satisfied: Mako in /Users/handekafkas/Documents/local-code/new-cognee/cognee/.venv/lib/python3.11/site-packages (from alembic<2.0.0,>=1.13.3->cognee) (1.3.9)\n",
      "Requirement already satisfied: distro<2,>=1.7.0 in /Users/handekafkas/Documents/local-code/new-cognee/cognee/.venv/lib/python3.11/site-packages (from anthropic<0.27.0,>=0.26.1->cognee) (1.9.0)\n",
      "Requirement already satisfied: tokenizers>=0.13.0 in /Users/handekafkas/Documents/local-code/new-cognee/cognee/.venv/lib/python3.11/site-packages (from anthropic<0.27.0,>=0.26.1->cognee) (0.21.0)\n",
      "Requirement already satisfied: contourpy>=1.2 in /Users/handekafkas/Documents/local-code/new-cognee/cognee/.venv/lib/python3.11/site-packages (from bokeh<4.0.0,>=3.6.2->cognee) (1.3.1)\n",
      "Requirement already satisfied: pillow>=7.1.0 in /Users/handekafkas/Documents/local-code/new-cognee/cognee/.venv/lib/python3.11/site-packages (from bokeh<4.0.0,>=3.6.2->cognee) (11.1.0)\n",
      "Requirement already satisfied: tornado>=6.2 in /Users/handekafkas/Documents/local-code/new-cognee/cognee/.venv/lib/python3.11/site-packages (from bokeh<4.0.0,>=3.6.2->cognee) (6.4.2)\n",
      "Requirement already satisfied: xyzservices>=2021.09.1 in /Users/handekafkas/Documents/local-code/new-cognee/cognee/.venv/lib/python3.11/site-packages (from bokeh<4.0.0,>=3.6.2->cognee) (2025.1.0)\n",
      "Requirement already satisfied: botocore<1.38.0,>=1.37.11 in /Users/handekafkas/Documents/local-code/new-cognee/cognee/.venv/lib/python3.11/site-packages (from boto3<2.0.0,>=1.26.125->cognee) (1.37.11)\n",
      "Requirement already satisfied: jmespath<2.0.0,>=0.7.1 in /Users/handekafkas/Documents/local-code/new-cognee/cognee/.venv/lib/python3.11/site-packages (from boto3<2.0.0,>=1.26.125->cognee) (1.0.1)\n",
      "Requirement already satisfied: s3transfer<0.12.0,>=0.11.0 in /Users/handekafkas/Documents/local-code/new-cognee/cognee/.venv/lib/python3.11/site-packages (from boto3<2.0.0,>=1.26.125->cognee) (0.11.4)\n",
      "Requirement already satisfied: build>=1.0.3 in /Users/handekafkas/Documents/local-code/new-cognee/cognee/.venv/lib/python3.11/site-packages (from chromadb<0.7.0,>=0.6.0->cognee) (1.2.2.post1)\n",
      "Requirement already satisfied: chroma-hnswlib==0.7.6 in /Users/handekafkas/Documents/local-code/new-cognee/cognee/.venv/lib/python3.11/site-packages (from chromadb<0.7.0,>=0.6.0->cognee) (0.7.6)\n",
      "Requirement already satisfied: posthog>=2.4.0 in /Users/handekafkas/Documents/local-code/new-cognee/cognee/.venv/lib/python3.11/site-packages (from chromadb<0.7.0,>=0.6.0->cognee) (3.19.1)\n",
      "Requirement already satisfied: onnxruntime>=1.14.1 in /Users/handekafkas/Documents/local-code/new-cognee/cognee/.venv/lib/python3.11/site-packages (from chromadb<0.7.0,>=0.6.0->cognee) (1.21.0)\n",
      "Requirement already satisfied: opentelemetry-api>=1.2.0 in /Users/handekafkas/Documents/local-code/new-cognee/cognee/.venv/lib/python3.11/site-packages (from chromadb<0.7.0,>=0.6.0->cognee) (1.30.0)\n",
      "Requirement already satisfied: opentelemetry-exporter-otlp-proto-grpc>=1.2.0 in /Users/handekafkas/Documents/local-code/new-cognee/cognee/.venv/lib/python3.11/site-packages (from chromadb<0.7.0,>=0.6.0->cognee) (1.30.0)\n",
      "Requirement already satisfied: opentelemetry-instrumentation-fastapi>=0.41b0 in /Users/handekafkas/Documents/local-code/new-cognee/cognee/.venv/lib/python3.11/site-packages (from chromadb<0.7.0,>=0.6.0->cognee) (0.51b0)\n",
      "Requirement already satisfied: opentelemetry-sdk>=1.2.0 in /Users/handekafkas/Documents/local-code/new-cognee/cognee/.venv/lib/python3.11/site-packages (from chromadb<0.7.0,>=0.6.0->cognee) (1.30.0)\n",
      "Requirement already satisfied: pypika>=0.48.9 in /Users/handekafkas/Documents/local-code/new-cognee/cognee/.venv/lib/python3.11/site-packages (from chromadb<0.7.0,>=0.6.0->cognee) (0.48.9)\n",
      "Requirement already satisfied: importlib-resources in /Users/handekafkas/Documents/local-code/new-cognee/cognee/.venv/lib/python3.11/site-packages (from chromadb<0.7.0,>=0.6.0->cognee) (6.5.2)\n",
      "Requirement already satisfied: grpcio>=1.58.0 in /Users/handekafkas/Documents/local-code/new-cognee/cognee/.venv/lib/python3.11/site-packages (from chromadb<0.7.0,>=0.6.0->cognee) (1.67.1)\n",
      "Requirement already satisfied: kubernetes>=28.1.0 in /Users/handekafkas/Documents/local-code/new-cognee/cognee/.venv/lib/python3.11/site-packages (from chromadb<0.7.0,>=0.6.0->cognee) (32.0.1)\n",
      "Requirement already satisfied: mmh3>=4.0.1 in /Users/handekafkas/Documents/local-code/new-cognee/cognee/.venv/lib/python3.11/site-packages (from chromadb<0.7.0,>=0.6.0->cognee) (5.1.0)\n",
      "Requirement already satisfied: orjson>=3.9.12 in /Users/handekafkas/Documents/local-code/new-cognee/cognee/.venv/lib/python3.11/site-packages (from chromadb<0.7.0,>=0.6.0->cognee) (3.10.15)\n",
      "Requirement already satisfied: gitpython>=3.1.29 in /Users/handekafkas/Documents/local-code/new-cognee/cognee/.venv/lib/python3.11/site-packages (from dlt<2.0.0,>=1.4.1->dlt[sqlalchemy]<2.0.0,>=1.4.1->cognee) (3.1.44)\n",
      "Requirement already satisfied: giturlparse>=0.10.0 in /Users/handekafkas/Documents/local-code/new-cognee/cognee/.venv/lib/python3.11/site-packages (from dlt<2.0.0,>=1.4.1->dlt[sqlalchemy]<2.0.0,>=1.4.1->cognee) (0.12.0)\n",
      "Requirement already satisfied: hexbytes>=0.2.2 in /Users/handekafkas/Documents/local-code/new-cognee/cognee/.venv/lib/python3.11/site-packages (from dlt<2.0.0,>=1.4.1->dlt[sqlalchemy]<2.0.0,>=1.4.1->cognee) (1.3.0)\n",
      "Requirement already satisfied: humanize>=4.4.0 in /Users/handekafkas/Documents/local-code/new-cognee/cognee/.venv/lib/python3.11/site-packages (from dlt<2.0.0,>=1.4.1->dlt[sqlalchemy]<2.0.0,>=1.4.1->cognee) (4.12.1)\n",
      "Requirement already satisfied: jsonpath-ng>=1.5.3 in /Users/handekafkas/Documents/local-code/new-cognee/cognee/.venv/lib/python3.11/site-packages (from dlt<2.0.0,>=1.4.1->dlt[sqlalchemy]<2.0.0,>=1.4.1->cognee) (1.7.0)\n",
      "Requirement already satisfied: pathvalidate>=2.5.2 in /Users/handekafkas/Documents/local-code/new-cognee/cognee/.venv/lib/python3.11/site-packages (from dlt<2.0.0,>=1.4.1->dlt[sqlalchemy]<2.0.0,>=1.4.1->cognee) (3.2.3)\n",
      "Requirement already satisfied: pendulum>=2.1.2 in /Users/handekafkas/Documents/local-code/new-cognee/cognee/.venv/lib/python3.11/site-packages (from dlt<2.0.0,>=1.4.1->dlt[sqlalchemy]<2.0.0,>=1.4.1->cognee) (3.0.0)\n",
      "Requirement already satisfied: pluggy>=1.3.0 in /Users/handekafkas/Documents/local-code/new-cognee/cognee/.venv/lib/python3.11/site-packages (from dlt<2.0.0,>=1.4.1->dlt[sqlalchemy]<2.0.0,>=1.4.1->cognee) (1.5.0)\n",
      "Requirement already satisfied: requirements-parser>=0.5.0 in /Users/handekafkas/Documents/local-code/new-cognee/cognee/.venv/lib/python3.11/site-packages (from dlt<2.0.0,>=1.4.1->dlt[sqlalchemy]<2.0.0,>=1.4.1->cognee) (0.11.0)\n",
      "Requirement already satisfied: rich-argparse<2.0.0,>=1.6.0 in /Users/handekafkas/Documents/local-code/new-cognee/cognee/.venv/lib/python3.11/site-packages (from dlt<2.0.0,>=1.4.1->dlt[sqlalchemy]<2.0.0,>=1.4.1->cognee) (1.7.0)\n",
      "Requirement already satisfied: semver>=3.0.0 in /Users/handekafkas/Documents/local-code/new-cognee/cognee/.venv/lib/python3.11/site-packages (from dlt<2.0.0,>=1.4.1->dlt[sqlalchemy]<2.0.0,>=1.4.1->cognee) (3.0.4)\n",
      "Requirement already satisfied: setuptools>=65.6.0 in /Users/handekafkas/Documents/local-code/new-cognee/cognee/.venv/lib/python3.11/site-packages (from dlt<2.0.0,>=1.4.1->dlt[sqlalchemy]<2.0.0,>=1.4.1->cognee) (76.0.0)\n",
      "Requirement already satisfied: simplejson>=3.17.5 in /Users/handekafkas/Documents/local-code/new-cognee/cognee/.venv/lib/python3.11/site-packages (from dlt<2.0.0,>=1.4.1->dlt[sqlalchemy]<2.0.0,>=1.4.1->cognee) (3.20.1)\n",
      "Requirement already satisfied: tomlkit>=0.11.3 in /Users/handekafkas/Documents/local-code/new-cognee/cognee/.venv/lib/python3.11/site-packages (from dlt<2.0.0,>=1.4.1->dlt[sqlalchemy]<2.0.0,>=1.4.1->cognee) (0.13.2)\n",
      "Requirement already satisfied: palettable>=3.0 in /Users/handekafkas/Documents/local-code/new-cognee/cognee/.venv/lib/python3.11/site-packages (from graphistry<0.34.0,>=0.33.5->cognee) (3.3.3)\n",
      "Requirement already satisfied: squarify in /Users/handekafkas/Documents/local-code/new-cognee/cognee/.venv/lib/python3.11/site-packages (from graphistry<0.34.0,>=0.33.5->cognee) (0.4.4)\n",
      "Requirement already satisfied: MarkupSafe>=2.0 in /Users/handekafkas/Documents/local-code/new-cognee/cognee/.venv/lib/python3.11/site-packages (from jinja2<4.0.0,>=3.1.3->cognee) (3.0.2)\n",
      "Requirement already satisfied: backoff>=1.10.0 in /Users/handekafkas/Documents/local-code/new-cognee/cognee/.venv/lib/python3.11/site-packages (from langfuse<3.0.0,>=2.32.0->cognee) (2.2.1)\n",
      "Requirement already satisfied: wrapt<2.0,>=1.14 in /Users/handekafkas/Documents/local-code/new-cognee/cognee/.venv/lib/python3.11/site-packages (from langfuse<3.0.0,>=2.32.0->cognee) (1.17.2)\n",
      "Requirement already satisfied: importlib-metadata>=6.8.0 in /Users/handekafkas/Documents/local-code/new-cognee/cognee/.venv/lib/python3.11/site-packages (from litellm>=1.57.4->cognee) (8.5.0)\n",
      "Requirement already satisfied: jsonschema<5.0.0,>=4.22.0 in /Users/handekafkas/Documents/local-code/new-cognee/cognee/.venv/lib/python3.11/site-packages (from litellm>=1.57.4->cognee) (4.23.0)\n",
      "Requirement already satisfied: cycler>=0.10 in /Users/handekafkas/Documents/local-code/new-cognee/cognee/.venv/lib/python3.11/site-packages (from matplotlib<4.0.0,>=3.8.3->cognee) (0.12.1)\n",
      "Requirement already satisfied: fonttools>=4.22.0 in /Users/handekafkas/Documents/local-code/new-cognee/cognee/.venv/lib/python3.11/site-packages (from matplotlib<4.0.0,>=3.8.3->cognee) (4.56.0)\n",
      "Requirement already satisfied: kiwisolver>=1.3.1 in /Users/handekafkas/Documents/local-code/new-cognee/cognee/.venv/lib/python3.11/site-packages (from matplotlib<4.0.0,>=3.8.3->cognee) (1.4.8)\n",
      "Requirement already satisfied: pyparsing>=2.3.1 in /Users/handekafkas/Documents/local-code/new-cognee/cognee/.venv/lib/python3.11/site-packages (from matplotlib<4.0.0,>=3.8.3->cognee) (3.2.1)\n",
      "Requirement already satisfied: cfgv>=2.0.0 in /Users/handekafkas/Documents/local-code/new-cognee/cognee/.venv/lib/python3.11/site-packages (from pre-commit<5.0.0,>=4.0.1->cognee) (3.4.0)\n",
      "Requirement already satisfied: identify>=1.0.0 in /Users/handekafkas/Documents/local-code/new-cognee/cognee/.venv/lib/python3.11/site-packages (from pre-commit<5.0.0,>=4.0.1->cognee) (2.6.9)\n",
      "Requirement already satisfied: nodeenv>=0.11.1 in /Users/handekafkas/Documents/local-code/new-cognee/cognee/.venv/lib/python3.11/site-packages (from pre-commit<5.0.0,>=4.0.1->cognee) (1.9.1)\n",
      "Requirement already satisfied: virtualenv>=20.10.0 in /Users/handekafkas/Documents/local-code/new-cognee/cognee/.venv/lib/python3.11/site-packages (from pre-commit<5.0.0,>=4.0.1->cognee) (20.29.3)\n",
      "Requirement already satisfied: scipy>=1.6.0 in /Users/handekafkas/Documents/local-code/new-cognee/cognee/.venv/lib/python3.11/site-packages (from scikit-learn<2.0.0,>=1.5.0->cognee) (1.15.2)\n",
      "Requirement already satisfied: threadpoolctl>=3.1.0 in /Users/handekafkas/Documents/local-code/new-cognee/cognee/.venv/lib/python3.11/site-packages (from scikit-learn<2.0.0,>=1.5.0->cognee) (3.5.0)\n",
      "Requirement already satisfied: pyproject_hooks in /Users/handekafkas/Documents/local-code/new-cognee/cognee/.venv/lib/python3.11/site-packages (from build>=1.0.3->chromadb<0.7.0,>=0.6.0->cognee) (1.2.0)\n",
      "Requirement already satisfied: dnspython>=2.0.0 in /Users/handekafkas/Documents/local-code/new-cognee/cognee/.venv/lib/python3.11/site-packages (from email-validator<2.3,>=1.1.0->fastapi-users==14.0.0->fastapi-users[sqlalchemy]==14.0.0->cognee) (2.7.0)\n",
      "Requirement already satisfied: gitdb<5,>=4.0.1 in /Users/handekafkas/Documents/local-code/new-cognee/cognee/.venv/lib/python3.11/site-packages (from gitpython>=3.1.29->dlt<2.0.0,>=1.4.1->dlt[sqlalchemy]<2.0.0,>=1.4.1->cognee) (4.0.12)\n",
      "Requirement already satisfied: zipp>=3.20 in /Users/handekafkas/Documents/local-code/new-cognee/cognee/.venv/lib/python3.11/site-packages (from importlib-metadata>=6.8.0->litellm>=1.57.4->cognee) (3.21.0)\n",
      "Requirement already satisfied: ply in /Users/handekafkas/Documents/local-code/new-cognee/cognee/.venv/lib/python3.11/site-packages (from jsonpath-ng>=1.5.3->dlt<2.0.0,>=1.4.1->dlt[sqlalchemy]<2.0.0,>=1.4.1->cognee) (3.11)\n",
      "Requirement already satisfied: jsonschema-specifications>=2023.03.6 in /Users/handekafkas/Documents/local-code/new-cognee/cognee/.venv/lib/python3.11/site-packages (from jsonschema<5.0.0,>=4.22.0->litellm>=1.57.4->cognee) (2024.10.1)\n",
      "Requirement already satisfied: referencing>=0.28.4 in /Users/handekafkas/Documents/local-code/new-cognee/cognee/.venv/lib/python3.11/site-packages (from jsonschema<5.0.0,>=4.22.0->litellm>=1.57.4->cognee) (0.36.2)\n",
      "Requirement already satisfied: rpds-py>=0.7.1 in /Users/handekafkas/Documents/local-code/new-cognee/cognee/.venv/lib/python3.11/site-packages (from jsonschema<5.0.0,>=4.22.0->litellm>=1.57.4->cognee) (0.23.1)\n",
      "Requirement already satisfied: google-auth>=1.0.1 in /Users/handekafkas/Documents/local-code/new-cognee/cognee/.venv/lib/python3.11/site-packages (from kubernetes>=28.1.0->chromadb<0.7.0,>=0.6.0->cognee) (2.38.0)\n",
      "Requirement already satisfied: websocket-client!=0.40.0,!=0.41.*,!=0.42.*,>=0.32.0 in /Users/handekafkas/Documents/local-code/new-cognee/cognee/.venv/lib/python3.11/site-packages (from kubernetes>=28.1.0->chromadb<0.7.0,>=0.6.0->cognee) (1.8.0)\n",
      "Requirement already satisfied: requests-oauthlib in /Users/handekafkas/Documents/local-code/new-cognee/cognee/.venv/lib/python3.11/site-packages (from kubernetes>=28.1.0->chromadb<0.7.0,>=0.6.0->cognee) (1.3.1)\n",
      "Requirement already satisfied: oauthlib>=3.2.2 in /Users/handekafkas/Documents/local-code/new-cognee/cognee/.venv/lib/python3.11/site-packages (from kubernetes>=28.1.0->chromadb<0.7.0,>=0.6.0->cognee) (3.2.2)\n",
      "Requirement already satisfied: durationpy>=0.7 in /Users/handekafkas/Documents/local-code/new-cognee/cognee/.venv/lib/python3.11/site-packages (from kubernetes>=28.1.0->chromadb<0.7.0,>=0.6.0->cognee) (0.9)\n",
      "Requirement already satisfied: coloredlogs in /Users/handekafkas/Documents/local-code/new-cognee/cognee/.venv/lib/python3.11/site-packages (from onnxruntime>=1.14.1->chromadb<0.7.0,>=0.6.0->cognee) (15.0.1)\n",
      "Requirement already satisfied: flatbuffers in /Users/handekafkas/Documents/local-code/new-cognee/cognee/.venv/lib/python3.11/site-packages (from onnxruntime>=1.14.1->chromadb<0.7.0,>=0.6.0->cognee) (25.2.10)\n",
      "Requirement already satisfied: protobuf in /Users/handekafkas/Documents/local-code/new-cognee/cognee/.venv/lib/python3.11/site-packages (from onnxruntime>=1.14.1->chromadb<0.7.0,>=0.6.0->cognee) (5.29.3)\n",
      "Requirement already satisfied: sympy in /Users/handekafkas/Documents/local-code/new-cognee/cognee/.venv/lib/python3.11/site-packages (from onnxruntime>=1.14.1->chromadb<0.7.0,>=0.6.0->cognee) (1.13.3)\n",
      "Requirement already satisfied: deprecated>=1.2.6 in /Users/handekafkas/Documents/local-code/new-cognee/cognee/.venv/lib/python3.11/site-packages (from opentelemetry-api>=1.2.0->chromadb<0.7.0,>=0.6.0->cognee) (1.2.18)\n",
      "Requirement already satisfied: googleapis-common-protos~=1.52 in /Users/handekafkas/Documents/local-code/new-cognee/cognee/.venv/lib/python3.11/site-packages (from opentelemetry-exporter-otlp-proto-grpc>=1.2.0->chromadb<0.7.0,>=0.6.0->cognee) (1.69.1)\n",
      "Requirement already satisfied: opentelemetry-exporter-otlp-proto-common==1.30.0 in /Users/handekafkas/Documents/local-code/new-cognee/cognee/.venv/lib/python3.11/site-packages (from opentelemetry-exporter-otlp-proto-grpc>=1.2.0->chromadb<0.7.0,>=0.6.0->cognee) (1.30.0)\n",
      "Requirement already satisfied: opentelemetry-proto==1.30.0 in /Users/handekafkas/Documents/local-code/new-cognee/cognee/.venv/lib/python3.11/site-packages (from opentelemetry-exporter-otlp-proto-grpc>=1.2.0->chromadb<0.7.0,>=0.6.0->cognee) (1.30.0)\n",
      "Requirement already satisfied: opentelemetry-instrumentation-asgi==0.51b0 in /Users/handekafkas/Documents/local-code/new-cognee/cognee/.venv/lib/python3.11/site-packages (from opentelemetry-instrumentation-fastapi>=0.41b0->chromadb<0.7.0,>=0.6.0->cognee) (0.51b0)\n",
      "Requirement already satisfied: opentelemetry-instrumentation==0.51b0 in /Users/handekafkas/Documents/local-code/new-cognee/cognee/.venv/lib/python3.11/site-packages (from opentelemetry-instrumentation-fastapi>=0.41b0->chromadb<0.7.0,>=0.6.0->cognee) (0.51b0)\n",
      "Requirement already satisfied: opentelemetry-semantic-conventions==0.51b0 in /Users/handekafkas/Documents/local-code/new-cognee/cognee/.venv/lib/python3.11/site-packages (from opentelemetry-instrumentation-fastapi>=0.41b0->chromadb<0.7.0,>=0.6.0->cognee) (0.51b0)\n",
      "Requirement already satisfied: opentelemetry-util-http==0.51b0 in /Users/handekafkas/Documents/local-code/new-cognee/cognee/.venv/lib/python3.11/site-packages (from opentelemetry-instrumentation-fastapi>=0.41b0->chromadb<0.7.0,>=0.6.0->cognee) (0.51b0)\n",
      "Requirement already satisfied: asgiref~=3.0 in /Users/handekafkas/Documents/local-code/new-cognee/cognee/.venv/lib/python3.11/site-packages (from opentelemetry-instrumentation-asgi==0.51b0->opentelemetry-instrumentation-fastapi>=0.41b0->chromadb<0.7.0,>=0.6.0->cognee) (3.8.1)\n",
      "Collecting time-machine>=2.6.0 (from pendulum>=2.1.2->dlt<2.0.0,>=1.4.1->dlt[sqlalchemy]<2.0.0,>=1.4.1->cognee)\n",
      "  Using cached time_machine-2.16.0-cp311-cp311-macosx_10_9_universal2.whl.metadata (21 kB)\n",
      "Requirement already satisfied: monotonic>=1.5 in /Users/handekafkas/Documents/local-code/new-cognee/cognee/.venv/lib/python3.11/site-packages (from posthog>=2.4.0->chromadb<0.7.0,>=0.6.0->cognee) (1.6)\n",
      "Requirement already satisfied: types-setuptools>=69.1.0 in /Users/handekafkas/Documents/local-code/new-cognee/cognee/.venv/lib/python3.11/site-packages (from requirements-parser>=0.5.0->dlt<2.0.0,>=1.4.1->dlt[sqlalchemy]<2.0.0,>=1.4.1->cognee) (75.8.2.20250305)\n",
      "Requirement already satisfied: markdown-it-py>=2.2.0 in /Users/handekafkas/Documents/local-code/new-cognee/cognee/.venv/lib/python3.11/site-packages (from rich<14.0.0,>=13.7.0->instructor==1.7.2->cognee) (3.0.0)\n",
      "Requirement already satisfied: pygments<3.0.0,>=2.13.0 in /Users/handekafkas/Documents/local-code/new-cognee/cognee/.venv/lib/python3.11/site-packages (from rich<14.0.0,>=13.7.0->instructor==1.7.2->cognee) (2.19.1)\n",
      "Requirement already satisfied: shellingham>=1.3.0 in /Users/handekafkas/Documents/local-code/new-cognee/cognee/.venv/lib/python3.11/site-packages (from typer<1.0.0,>=0.9.0->instructor==1.7.2->cognee) (1.5.4)\n",
      "Requirement already satisfied: httptools>=0.6.3 in /Users/handekafkas/Documents/local-code/new-cognee/cognee/.venv/lib/python3.11/site-packages (from uvicorn[standard]>=0.18.3->chromadb<0.7.0,>=0.6.0->cognee) (0.6.4)\n",
      "Requirement already satisfied: uvloop!=0.15.0,!=0.15.1,>=0.14.0 in /Users/handekafkas/Documents/local-code/new-cognee/cognee/.venv/lib/python3.11/site-packages (from uvicorn[standard]>=0.18.3->chromadb<0.7.0,>=0.6.0->cognee) (0.21.0)\n",
      "Requirement already satisfied: watchfiles>=0.13 in /Users/handekafkas/Documents/local-code/new-cognee/cognee/.venv/lib/python3.11/site-packages (from uvicorn[standard]>=0.18.3->chromadb<0.7.0,>=0.6.0->cognee) (1.0.4)\n",
      "Requirement already satisfied: websockets>=10.4 in /Users/handekafkas/Documents/local-code/new-cognee/cognee/.venv/lib/python3.11/site-packages (from uvicorn[standard]>=0.18.3->chromadb<0.7.0,>=0.6.0->cognee) (15.0.1)\n",
      "Requirement already satisfied: distlib<1,>=0.3.7 in /Users/handekafkas/Documents/local-code/new-cognee/cognee/.venv/lib/python3.11/site-packages (from virtualenv>=20.10.0->pre-commit<5.0.0,>=4.0.1->cognee) (0.3.9)\n",
      "Requirement already satisfied: platformdirs<5,>=3.9.1 in /Users/handekafkas/Documents/local-code/new-cognee/cognee/.venv/lib/python3.11/site-packages (from virtualenv>=20.10.0->pre-commit<5.0.0,>=4.0.1->cognee) (4.3.6)\n",
      "Requirement already satisfied: propcache>=0.2.0 in /Users/handekafkas/Documents/local-code/new-cognee/cognee/.venv/lib/python3.11/site-packages (from yarl<2.0,>=1.12.0->aiohttp==3.10.10->cognee) (0.3.0)\n",
      "Requirement already satisfied: argon2-cffi-bindings in /Users/handekafkas/Documents/local-code/new-cognee/cognee/.venv/lib/python3.11/site-packages (from argon2-cffi<24,>=23.1.0->pwdlib[argon2,bcrypt]==0.2.1->fastapi-users==14.0.0->fastapi-users[sqlalchemy]==14.0.0->cognee) (21.2.0)\n",
      "Requirement already satisfied: cffi>=1.12 in /Users/handekafkas/Documents/local-code/new-cognee/cognee/.venv/lib/python3.11/site-packages (from cryptography>=3.4.0->pyjwt[crypto]==2.9.0->fastapi-users==14.0.0->fastapi-users[sqlalchemy]==14.0.0->cognee) (1.17.1)\n",
      "Requirement already satisfied: smmap<6,>=3.0.1 in /Users/handekafkas/Documents/local-code/new-cognee/cognee/.venv/lib/python3.11/site-packages (from gitdb<5,>=4.0.1->gitpython>=3.1.29->dlt<2.0.0,>=1.4.1->dlt[sqlalchemy]<2.0.0,>=1.4.1->cognee) (5.0.2)\n",
      "Requirement already satisfied: cachetools<6.0,>=2.0.0 in /Users/handekafkas/Documents/local-code/new-cognee/cognee/.venv/lib/python3.11/site-packages (from google-auth>=1.0.1->kubernetes>=28.1.0->chromadb<0.7.0,>=0.6.0->cognee) (5.5.2)\n",
      "Requirement already satisfied: pyasn1-modules>=0.2.1 in /Users/handekafkas/Documents/local-code/new-cognee/cognee/.venv/lib/python3.11/site-packages (from google-auth>=1.0.1->kubernetes>=28.1.0->chromadb<0.7.0,>=0.6.0->cognee) (0.4.1)\n",
      "Requirement already satisfied: rsa<5,>=3.1.4 in /Users/handekafkas/Documents/local-code/new-cognee/cognee/.venv/lib/python3.11/site-packages (from google-auth>=1.0.1->kubernetes>=28.1.0->chromadb<0.7.0,>=0.6.0->cognee) (4.9)\n",
      "Requirement already satisfied: mdurl~=0.1 in /Users/handekafkas/Documents/local-code/new-cognee/cognee/.venv/lib/python3.11/site-packages (from markdown-it-py>=2.2.0->rich<14.0.0,>=13.7.0->instructor==1.7.2->cognee) (0.1.2)\n",
      "Requirement already satisfied: greenlet!=0.4.17 in /Users/handekafkas/Documents/local-code/new-cognee/cognee/.venv/lib/python3.11/site-packages (from sqlalchemy[asyncio]<2.1.0,>=2.0.0->fastapi-users-db-sqlalchemy>=6.0.0->fastapi-users[sqlalchemy]==14.0.0->cognee) (3.1.1)\n",
      "Requirement already satisfied: humanfriendly>=9.1 in /Users/handekafkas/Documents/local-code/new-cognee/cognee/.venv/lib/python3.11/site-packages (from coloredlogs->onnxruntime>=1.14.1->chromadb<0.7.0,>=0.6.0->cognee) (10.0)\n",
      "Requirement already satisfied: mpmath<1.4,>=1.1.0 in /Users/handekafkas/Documents/local-code/new-cognee/cognee/.venv/lib/python3.11/site-packages (from sympy->onnxruntime>=1.14.1->chromadb<0.7.0,>=0.6.0->cognee) (1.3.0)\n",
      "Requirement already satisfied: pycparser in /Users/handekafkas/Documents/local-code/new-cognee/cognee/.venv/lib/python3.11/site-packages (from cffi>=1.12->cryptography>=3.4.0->pyjwt[crypto]==2.9.0->fastapi-users==14.0.0->fastapi-users[sqlalchemy]==14.0.0->cognee) (2.22)\n",
      "Requirement already satisfied: pyasn1<0.7.0,>=0.4.6 in /Users/handekafkas/Documents/local-code/new-cognee/cognee/.venv/lib/python3.11/site-packages (from pyasn1-modules>=0.2.1->google-auth>=1.0.1->kubernetes>=28.1.0->chromadb<0.7.0,>=0.6.0->cognee) (0.6.1)\n",
      "Using cached time_machine-2.16.0-cp311-cp311-macosx_10_9_universal2.whl (20 kB)\n",
      "Installing collected packages: time-machine\n",
      "Successfully installed time-machine-2.16.0\n",
      "\n",
      "\u001b[1m[\u001b[0m\u001b[34;49mnotice\u001b[0m\u001b[1;39;49m]\u001b[0m\u001b[39;49m A new release of pip is available: \u001b[0m\u001b[31;49m24.0\u001b[0m\u001b[39;49m -> \u001b[0m\u001b[32;49m25.0.1\u001b[0m\n",
      "\u001b[1m[\u001b[0m\u001b[34;49mnotice\u001b[0m\u001b[1;39;49m]\u001b[0m\u001b[39;49m To update, run: \u001b[0m\u001b[32;49mpip install --upgrade pip\u001b[0m\n",
      "Note: you may need to restart the kernel to use updated packages.\n",
      "Requirement already satisfied: nest_asyncio in /Users/handekafkas/Documents/local-code/new-cognee/cognee/.venv/lib/python3.11/site-packages (1.6.0)\n",
      "\n",
      "\u001b[1m[\u001b[0m\u001b[34;49mnotice\u001b[0m\u001b[1;39;49m]\u001b[0m\u001b[39;49m A new release of pip is available: \u001b[0m\u001b[31;49m24.0\u001b[0m\u001b[39;49m -> \u001b[0m\u001b[32;49m25.0.1\u001b[0m\n",
      "\u001b[1m[\u001b[0m\u001b[34;49mnotice\u001b[0m\u001b[1;39;49m]\u001b[0m\u001b[39;49m To update, run: \u001b[0m\u001b[32;49mpip install --upgrade pip\u001b[0m\n",
      "Note: you may need to restart the kernel to use updated packages.\n"
     ]
    }
   ],
   "source": [
    "# If you haven't installed cognee or nest_asyncio yet, uncomment and run the lines below:\n",
    "# %pip install cognee\n",
    "# %pip install nest_asyncio"
   ]
  },
  {
   "cell_type": "code",
   "execution_count": 2,
   "metadata": {},
   "outputs": [
    {
     "name": "stderr",
     "output_type": "stream",
     "text": [
      "WARNING:OntologyAdapter:Ontology file 'None' not found. Using fallback ontology at http://example.org/empty_ontologyINFO:OntologyAdapter:Lookup built: 0 classes, 0 individualsWARNING:OntologyAdapter:Ontology file 'None' not found. Using fallback ontology at http://example.org/empty_ontologyINFO:OntologyAdapter:Lookup built: 0 classes, 0 individuals"
     ]
    }
   ],
   "source": [
    "import os\n",
    "import glob\n",
    "import logging\n",
    "import asyncio\n",
    "import nest_asyncio\n",
    "\n",
    "import cognee\n",
    "from cognee.api.v1.search import SearchType\n",
    "from cognee.shared.utils import render_graph, setup_logging\n",
    "\n",
    "# Apply the nest_asyncio patch so we can re-enter the event loop from Jupyter cells.\n",
    "nest_asyncio.apply()\n",
    "\n",
    "# Prerequisites:\n",
    "# 1. Copy `.env.template` and rename it to `.env`.\n",
    "# 2. Add your OpenAI API key to the `.env` file in the `LLM_API_KEY` field:\n",
    "#    LLM_API_KEY = \"your_key_here\"\n"
   ]
  },
  {
   "cell_type": "code",
   "execution_count": 4,
   "metadata": {},
   "outputs": [
    {
     "name": "stderr",
     "output_type": "stream",
     "text": [
      "WARNING:cognee.infrastructure.databases.graph.networkx.adapter:File /Users/handekafkas/Documents/local-code/new-cognee/cognee/cognee/.cognee_system/databases/cognee_graph.pkl not found. Initializing an empty graph.INFO:cognee.infrastructure.databases.graph.networkx.adapter:Graph deleted successfully.INFO:cognee.infrastructure.databases.relational.sqlalchemy.SqlAlchemyAdapter:Database deleted successfully."
     ]
    }
   ],
   "source": [
    "# Clears all data and system state\n",
    "\n",
    "await cognee.prune.prune_data()     \n",
    "await cognee.prune.prune_system(metadata=True)  "
   ]
  },
  {
   "cell_type": "code",
   "execution_count": 6,
   "metadata": {},
   "outputs": [
    {
     "name": "stdout",
     "output_type": "stream",
     "text": [
      "Found 5 PDF file(s) to process:\n",
      "- 18176523.pdf\n",
      "- 25857360.pdf\n",
      "- 39718499.pdf\n",
      "- 40018190.pdf\n",
      "- 31243710.pdf\n"
     ]
    }
   ],
   "source": [
    "pdf_dir = os.path.join(os.getcwd(), \"data\", \"INFORMATION-TECHNOLOGY\")\n",
    "\n",
    "# Get up to the first 5 PDF files for demonstration\n",
    "pdf_files = glob.glob(os.path.join(pdf_dir, \"*.pdf\"))[:5]\n",
    "\n",
    "if not pdf_files:\n",
    "    print(f\"No PDF files found in {pdf_dir}\")\n",
    "else:\n",
    "    print(f\"Found {len(pdf_files)} PDF file(s) to process:\")\n",
    "    for pdf_file in pdf_files:\n",
    "        print(f\"- {os.path.basename(pdf_file)}\")"
   ]
  },
  {
   "cell_type": "code",
   "execution_count": 7,
   "metadata": {},
   "outputs": [
    {
     "name": "stderr",
     "output_type": "stream",
     "text": [
      "INFO:cognee.infrastructure.llm.utils:Model not found in LiteLLM's model_cost.WARNING:langfuse:Langfuse client is disabled since no public_key was provided as a parameter or environment variable 'LANGFUSE_PUBLIC_KEY'. See our docs: https://langfuse.com/docs/sdk/python/low-level-sdk#initialize-client"
     ]
    },
    {
     "name": "stdout",
     "output_type": "stream",
     "text": [
      "Adding PDFs to cognee...\n",
      "Processing 18176523.pdf...\n"
     ]
    },
    {
     "name": "stderr",
     "output_type": "stream",
     "text": [
      "\u001b[92m12:06:08 - LiteLLM:INFO\u001b[0m: utils.py:2974 - \n",
      "LiteLLM completion() model= gpt-4o-mini; provider = openaiINFO:LiteLLM:\n",
      "LiteLLM completion() model= gpt-4o-mini; provider = openaiINFO:run_tasks(tasks: [Task], data):Pipeline run started: `4b84e400-23fc-5976-bbb4-f8ee303eed81`INFO:run_tasks(tasks: [Task], data):Coroutine task started: `resolve_data_directories`INFO:run_tasks(tasks: [Task], data):Coroutine task started: `ingest_data`"
     ]
    },
    {
     "name": "stdout",
     "output_type": "stream",
     "text": [
      "User cffaf4aa-633a-4ee5-8afc-201d5311742f has registered.\n",
      "<cognee.modules.pipelines.models.PipelineRun.PipelineRun object at 0x323527d50>\n"
     ]
    },
    {
     "name": "stderr",
     "output_type": "stream",
     "text": [
      "/Users/handekafkas/Documents/local-code/new-cognee/cognee/.venv/lib/python3.11/site-packages/dlt/destinations/impl/sqlalchemy/merge_job.py:194: SAWarning: Table 'file_metadata' already exists within the given MetaData - not copying.\n",
      "  staging_table_obj = table_obj.to_metadata(\n",
      "/Users/handekafkas/Documents/local-code/new-cognee/cognee/.venv/lib/python3.11/site-packages/dlt/destinations/impl/sqlalchemy/merge_job.py:229: SAWarning: implicitly coercing SELECT object to scalar subquery; please use the .scalar_subquery() method to produce a scalar subquery.\n",
      "  order_by=order_dir_func(order_by_col),\n",
      "INFO:run_tasks(tasks: [Task], data):Coroutine task completed: `ingest_data`INFO:run_tasks(tasks: [Task], data):Coroutine task completed: `resolve_data_directories`INFO:run_tasks(tasks: [Task], data):Pipeline run completed: `4b84e400-23fc-5976-bbb4-f8ee303eed81`INFO:run_tasks(tasks: [Task], data):Pipeline run started: `4b84e400-23fc-5976-bbb4-f8ee303eed81`INFO:run_tasks(tasks: [Task], data):Coroutine task started: `resolve_data_directories`INFO:run_tasks(tasks: [Task], data):Coroutine task started: `ingest_data`INFO:run_tasks(tasks: [Task], data):Coroutine task completed: `ingest_data`INFO:run_tasks(tasks: [Task], data):Coroutine task completed: `resolve_data_directories`INFO:run_tasks(tasks: [Task], data):Pipeline run completed: `4b84e400-23fc-5976-bbb4-f8ee303eed81`INFO:run_tasks(tasks: [Task], data):Pipeline run started: `4b84e400-23fc-5976-bbb4-f8ee303eed81`INFO:run_tasks(tasks: [Task], data):Coroutine task started: `resolve_data_directories`INFO:run_tasks(tasks: [Task], data):Coroutine task started: `ingest_data`"
     ]
    },
    {
     "name": "stdout",
     "output_type": "stream",
     "text": [
      "<cognee.modules.pipelines.models.PipelineRun.PipelineRun object at 0x3092dbcd0>\n",
      "Processing 25857360.pdf...\n",
      "<cognee.modules.pipelines.models.PipelineRun.PipelineRun object at 0x30881b5d0>\n",
      "<cognee.modules.pipelines.models.PipelineRun.PipelineRun object at 0x308193050>\n",
      "Processing 39718499.pdf...\n",
      "<cognee.modules.pipelines.models.PipelineRun.PipelineRun object at 0x3088bb750>\n"
     ]
    },
    {
     "name": "stderr",
     "output_type": "stream",
     "text": [
      "INFO:run_tasks(tasks: [Task], data):Coroutine task completed: `ingest_data`INFO:run_tasks(tasks: [Task], data):Coroutine task completed: `resolve_data_directories`INFO:run_tasks(tasks: [Task], data):Pipeline run completed: `4b84e400-23fc-5976-bbb4-f8ee303eed81`INFO:run_tasks(tasks: [Task], data):Pipeline run started: `4b84e400-23fc-5976-bbb4-f8ee303eed81`INFO:run_tasks(tasks: [Task], data):Coroutine task started: `resolve_data_directories`INFO:run_tasks(tasks: [Task], data):Coroutine task started: `ingest_data`INFO:run_tasks(tasks: [Task], data):Coroutine task completed: `ingest_data`INFO:run_tasks(tasks: [Task], data):Coroutine task completed: `resolve_data_directories`INFO:run_tasks(tasks: [Task], data):Pipeline run completed: `4b84e400-23fc-5976-bbb4-f8ee303eed81`INFO:run_tasks(tasks: [Task], data):Pipeline run started: `4b84e400-23fc-5976-bbb4-f8ee303eed81`INFO:run_tasks(tasks: [Task], data):Coroutine task started: `resolve_data_directories`INFO:run_tasks(tasks: [Task], data):Coroutine task started: `ingest_data`"
     ]
    },
    {
     "name": "stdout",
     "output_type": "stream",
     "text": [
      "<cognee.modules.pipelines.models.PipelineRun.PipelineRun object at 0x3088ece10>\n",
      "Processing 40018190.pdf...\n",
      "<cognee.modules.pipelines.models.PipelineRun.PipelineRun object at 0x31da4a110>\n",
      "<cognee.modules.pipelines.models.PipelineRun.PipelineRun object at 0x3088636d0>\n",
      "Processing 31243710.pdf...\n",
      "<cognee.modules.pipelines.models.PipelineRun.PipelineRun object at 0x3082dd090>\n"
     ]
    },
    {
     "name": "stderr",
     "output_type": "stream",
     "text": [
      "INFO:run_tasks(tasks: [Task], data):Coroutine task completed: `ingest_data`INFO:run_tasks(tasks: [Task], data):Coroutine task completed: `resolve_data_directories`INFO:run_tasks(tasks: [Task], data):Pipeline run completed: `4b84e400-23fc-5976-bbb4-f8ee303eed81`"
     ]
    },
    {
     "name": "stdout",
     "output_type": "stream",
     "text": [
      "<cognee.modules.pipelines.models.PipelineRun.PipelineRun object at 0x3088ca7d0>\n",
      "All specified PDF files have been added.\n"
     ]
    }
   ],
   "source": [
    "if not pdf_files:\n",
    "    print(\"No PDFs to add. Please check your file paths.\")\n",
    "else:\n",
    "    print(\"Adding PDFs to cognee...\")\n",
    "    for pdf_file in pdf_files:\n",
    "        print(f\"Processing {os.path.basename(pdf_file)}...\")\n",
    "        await cognee.add(pdf_file)\n",
    "\n",
    "print(\"All specified PDF files have been added.\")\n"
   ]
  },
  {
   "cell_type": "code",
   "execution_count": 8,
   "metadata": {},
   "outputs": [
    {
     "name": "stderr",
     "output_type": "stream",
     "text": [
      "WARNING:OntologyAdapter:Ontology file 'None' not found. Using fallback ontology at http://example.org/empty_ontologyINFO:OntologyAdapter:Lookup built: 0 classes, 0 individualsINFO:cognee.infrastructure.llm.utils:Model not found in LiteLLM's model_cost.INFO:run_tasks(tasks: [Task], data):Pipeline run started: `af81ab41-8243-522f-a10a-b7b5febcc577`INFO:run_tasks(tasks: [Task], data):Coroutine task started: `classify_documents`INFO:run_tasks(tasks: [Task], data):Coroutine task started: `check_permissions_on_documents`INFO:run_tasks(tasks: [Task], data):Async generator task started: `extract_chunks_from_documents`"
     ]
    },
    {
     "name": "stdout",
     "output_type": "stream",
     "text": [
      "Starting cognify (building the knowledge graph from documents)...\n"
     ]
    },
    {
     "name": "stderr",
     "output_type": "stream",
     "text": [
      "INFO:run_tasks(tasks: [Task], data):Coroutine task started: `extract_graph_from_data`INFO:cognee.infrastructure.llm.utils:Model not found in LiteLLM's model_cost.INFO:cognee.infrastructure.llm.utils:Model not found in LiteLLM's model_cost.\u001b[92m12:06:27 - LiteLLM:INFO\u001b[0m: utils.py:2974 - \n",
      "LiteLLM completion() model= gpt-4o-mini; provider = openaiINFO:LiteLLM:\n",
      "LiteLLM completion() model= gpt-4o-mini; provider = openaiINFO:cognee.infrastructure.llm.utils:Model not found in LiteLLM's model_cost.\u001b[92m12:06:27 - LiteLLM:INFO\u001b[0m: utils.py:2974 - \n",
      "LiteLLM completion() model= gpt-4o-mini; provider = openaiINFO:LiteLLM:\n",
      "LiteLLM completion() model= gpt-4o-mini; provider = openaiINFO:cognee.infrastructure.llm.utils:Model not found in LiteLLM's model_cost.\u001b[92m12:06:27 - LiteLLM:INFO\u001b[0m: utils.py:2974 - \n",
      "LiteLLM completion() model= gpt-4o-mini; provider = openaiINFO:LiteLLM:\n",
      "LiteLLM completion() model= gpt-4o-mini; provider = openaiINFO:cognee.infrastructure.llm.utils:Model not found in LiteLLM's model_cost.\u001b[92m12:06:27 - LiteLLM:INFO\u001b[0m: utils.py:2974 - \n",
      "LiteLLM completion() model= gpt-4o-mini; provider = openaiINFO:LiteLLM:\n",
      "LiteLLM completion() model= gpt-4o-mini; provider = openai\u001b[92m12:06:27 - LiteLLM:INFO\u001b[0m: utils.py:2974 - \n",
      "LiteLLM completion() model= gpt-4o-mini; provider = openaiINFO:LiteLLM:\n",
      "LiteLLM completion() model= gpt-4o-mini; provider = openaiWARNING:cognee.infrastructure.databases.graph.networkx.adapter:File /Users/handekafkas/Documents/local-code/new-cognee/cognee/cognee/.cognee_system/databases/cognee_graph.pkl not found. Initializing an empty graph.INFO:OntologyAdapter:No close match found for 'educational institution' in category 'classes'INFO:OntologyAdapter:No close match found for 'william woods university' in category 'individuals'INFO:OntologyAdapter:No close match found for 'profession' in category 'classes'INFO:OntologyAdapter:No close match found for 'it support technician' in category 'individuals'INFO:OntologyAdapter:No close match found for 'degree' in category 'classes'INFO:OntologyAdapter:No close match found for 'bachelor of science' in category 'individuals'INFO:OntologyAdapter:No close match found for 'organization' in category 'classes'INFO:OntologyAdapter:No close match found for 'company name' in category 'individuals'INFO:OntologyAdapter:No close match found for 'internship' in category 'classes'INFO:OntologyAdapter:No close match found for 'network assistant intern' in category 'individuals'INFO:OntologyAdapter:No close match found for 'technology assistant intern' in category 'individuals'INFO:OntologyAdapter:No close match found for 'project' in category 'classes'INFO:OntologyAdapter:No close match found for 'projects' in category 'individuals'INFO:OntologyAdapter:No close match found for 'skill' in category 'classes'INFO:OntologyAdapter:No close match found for 'skills' in category 'individuals'INFO:OntologyAdapter:No close match found for 'achievement' in category 'classes'INFO:OntologyAdapter:No close match found for 'honors and accomplishments' in category 'individuals'INFO:OntologyAdapter:No close match found for 'job title' in category 'classes'INFO:OntologyAdapter:No close match found for 'senior information technology manager' in category 'individuals'INFO:OntologyAdapter:No close match found for 'field' in category 'classes'INFO:OntologyAdapter:No close match found for 'information technology management' in category 'individuals'INFO:OntologyAdapter:No close match found for 'company' in category 'classes'INFO:OntologyAdapter:No close match found for 'company name' in category 'individuals'INFO:OntologyAdapter:No close match found for 'location' in category 'classes'INFO:OntologyAdapter:No close match found for 'city' in category 'individuals'INFO:OntologyAdapter:No close match found for 'state' in category 'individuals'INFO:OntologyAdapter:No close match found for 'associate of arts' in category 'individuals'INFO:OntologyAdapter:No close match found for 'certification' in category 'classes'INFO:OntologyAdapter:No close match found for 'microsoft certified professional' in category 'individuals'INFO:OntologyAdapter:No close match found for 'comptia a+' in category 'individuals'INFO:OntologyAdapter:No close match found for 'comptia network+' in category 'individuals'INFO:OntologyAdapter:No close match found for 'comptia security+' in category 'individuals'INFO:OntologyAdapter:No close match found for 'novell netware engineer' in category 'individuals'INFO:OntologyAdapter:No close match found for 'citrix administrator' in category 'individuals'INFO:OntologyAdapter:No close match found for 'red hat administrator' in category 'individuals'INFO:OntologyAdapter:No close match found for 'certified management accountant' in category 'individuals'INFO:OntologyAdapter:No close match found for 'affiliation' in category 'classes'INFO:OntologyAdapter:No close match found for 'vmware users group' in category 'individuals'INFO:OntologyAdapter:No close match found for 'emc users group' in category 'individuals'INFO:OntologyAdapter:No close match found for 'association of information technology professionals' in category 'individuals'INFO:OntologyAdapter:No close match found for 'program' in category 'classes'INFO:OntologyAdapter:No close match found for 'leadership development program' in category 'individuals'INFO:OntologyAdapter:No close match found for 'role' in category 'classes'INFO:OntologyAdapter:No close match found for 'assistant football coach' in category 'individuals'INFO:OntologyAdapter:No close match found for 'property maintenance assistant' in category 'individuals'INFO:OntologyAdapter:No close match found for 'utica college' in category 'individuals'INFO:OntologyAdapter:No close match found for 'event' in category 'classes'INFO:OntologyAdapter:No close match found for 'americas greatest heart run & walk' in category 'individuals'INFO:OntologyAdapter:No close match found for 'salvation army' in category 'individuals'INFO:OntologyAdapter:No close match found for 'north utica youth football' in category 'individuals'INFO:OntologyAdapter:No close match found for 'group' in category 'classes'INFO:OntologyAdapter:No close match found for 'leadership council' in category 'individuals'INFO:OntologyAdapter:No close match found for 'it manager' in category 'individuals'INFO:OntologyAdapter:No close match found for 'davenport university' in category 'individuals'INFO:OntologyAdapter:No close match found for 'western michigan university' in category 'individuals'INFO:OntologyAdapter:No close match found for 'indiana university' in category 'individuals'INFO:OntologyAdapter:No close match found for 'ivy tech community college' in category 'individuals'INFO:OntologyAdapter:No close match found for 'experience' in category 'classes'INFO:OntologyAdapter:No close match found for 'professional experience' in category 'individuals'INFO:OntologyAdapter:No close match found for 'certifications' in category 'individuals'INFO:OntologyAdapter:No close match found for 'staff assistant' in category 'individuals'INFO:OntologyAdapter:No close match found for 'office of information technology' in category 'individuals'INFO:OntologyAdapter:No close match found for 'person' in category 'classes'INFO:OntologyAdapter:No close match found for 'richard biever' in category 'individuals'INFO:OntologyAdapter:No close match found for 'receptionist' in category 'individuals'INFO:OntologyAdapter:No close match found for 'deputy clerk' in category 'individuals'INFO:OntologyAdapter:No close match found for 'legal secretary' in category 'individuals'INFO:OntologyAdapter:No close match found for 'southwest virginia community college' in category 'individuals'INFO:run_tasks(tasks: [Task], data):Coroutine task started: `summarize_text`INFO:cognee.infrastructure.llm.utils:Model not found in LiteLLM's model_cost.INFO:cognee.infrastructure.llm.utils:Model not found in LiteLLM's model_cost.\u001b[92m12:06:50 - LiteLLM:INFO\u001b[0m: utils.py:2974 - \n",
      "LiteLLM completion() model= gpt-4o-mini; provider = openaiINFO:LiteLLM:\n",
      "LiteLLM completion() model= gpt-4o-mini; provider = openaiINFO:cognee.infrastructure.llm.utils:Model not found in LiteLLM's model_cost.\u001b[92m12:06:50 - LiteLLM:INFO\u001b[0m: utils.py:2974 - \n",
      "LiteLLM completion() model= gpt-4o-mini; provider = openaiINFO:LiteLLM:\n",
      "LiteLLM completion() model= gpt-4o-mini; provider = openaiINFO:cognee.infrastructure.llm.utils:Model not found in LiteLLM's model_cost.\u001b[92m12:06:50 - LiteLLM:INFO\u001b[0m: utils.py:2974 - \n",
      "LiteLLM completion() model= gpt-4o-mini; provider = openaiINFO:LiteLLM:\n",
      "LiteLLM completion() model= gpt-4o-mini; provider = openaiINFO:cognee.infrastructure.llm.utils:Model not found in LiteLLM's model_cost.\u001b[92m12:06:50 - LiteLLM:INFO\u001b[0m: utils.py:2974 - \n",
      "LiteLLM completion() model= gpt-4o-mini; provider = openaiINFO:LiteLLM:\n",
      "LiteLLM completion() model= gpt-4o-mini; provider = openai\u001b[92m12:06:50 - LiteLLM:INFO\u001b[0m: utils.py:2974 - \n",
      "LiteLLM completion() model= gpt-4o-mini; provider = openaiINFO:LiteLLM:\n",
      "LiteLLM completion() model= gpt-4o-mini; provider = openaiINFO:run_tasks(tasks: [Task], data):Coroutine task started: `add_data_points`INFO:run_tasks(tasks: [Task], data):Coroutine task completed: `add_data_points`INFO:run_tasks(tasks: [Task], data):Coroutine task completed: `summarize_text`INFO:run_tasks(tasks: [Task], data):Coroutine task completed: `extract_graph_from_data`INFO:run_tasks(tasks: [Task], data):Async generator task completed: `extract_chunks_from_documents`INFO:run_tasks(tasks: [Task], data):Coroutine task completed: `check_permissions_on_documents`INFO:run_tasks(tasks: [Task], data):Coroutine task completed: `classify_documents`INFO:run_tasks(tasks: [Task], data):Pipeline run completed: `af81ab41-8243-522f-a10a-b7b5febcc577`"
     ]
    },
    {
     "name": "stdout",
     "output_type": "stream",
     "text": [
      "Cognify process complete.\n"
     ]
    }
   ],
   "source": [
    "print(\"Starting cognify (building the knowledge graph from documents)...\")\n",
    "await cognee.cognify()\n",
    "print(\"Cognify process complete.\")"
   ]
  },
  {
   "cell_type": "code",
   "execution_count": 9,
   "metadata": {},
   "outputs": [
    {
     "name": "stdout",
     "output_type": "stream",
     "text": [
      "Rendering the knowledge graph...\n",
      "Graph is visualized at: https://hub.graphistry.com/graph/graph.html?dataset=7db3783e06d74e4cb1870a31939bc713&type=arrow&viztoken=f2c330ef-b703-41bd-a17d-f5bd92eadd19&usertag=01b20246-pygraphistry-0.33.9&splashAfter=1742814472&info=true\n",
      "Graph rendering complete (check any visual output or logs).\n"
     ]
    }
   ],
   "source": [
    "print(\"Rendering the knowledge graph...\")\n",
    "await render_graph()\n",
    "print(\"Graph rendering complete (check any visual output or logs).\")"
   ]
  },
  {
   "cell_type": "code",
   "execution_count": 17,
   "metadata": {},
   "outputs": [],
   "source": [
    "query_text = (\n",
    "    \"Find all candidates who have managerial or leadership roles in IT and have experience in a medical environment.\"\n",
    ")"
   ]
  },
  {
   "cell_type": "code",
   "execution_count": 18,
   "metadata": {},
   "outputs": [
    {
     "name": "stdout",
     "output_type": "stream",
     "text": [
      "Base RAG with query: 'Find all candidates who have managerial or leadership roles in IT and have experience in a medical environment.'\n"
     ]
    },
    {
     "name": "stderr",
     "output_type": "stream",
     "text": [
      "INFO:cognee.infrastructure.llm.utils:Model not found in LiteLLM's model_cost.\u001b[92m12:23:22 - LiteLLM:INFO\u001b[0m: utils.py:2974 - \n",
      "LiteLLM completion() model= gpt-4o-mini; provider = openaiINFO:LiteLLM:\n",
      "LiteLLM completion() model= gpt-4o-mini; provider = openai"
     ]
    },
    {
     "name": "stdout",
     "output_type": "stream",
     "text": [
      "Search results:\n",
      "1. **Candidates with Managerial or Leadership Roles in IT with Medical Experience:**  \n",
      "- **Position:** Senior Information Technology Manager  \n",
      "  - **Experience:** 22 years in IT management, focused on leadership development and operational success.  \n",
      "  - **Relevant Experience:** Worked with Washington State Agencies regarding sharing healthcare data.  \n",
      "\n",
      "**Core Qualifications:**  \n",
      "- Operations management  \n",
      "- Staff development  \n",
      "- Change management  \n",
      "- Supervision and training  \n",
      "\n",
      "**Relevant Roles:**  \n",
      "1. **Senior Information Technology Manager** - Managed major IT projects, including migration to cloud services and data center management.  \n",
      "2. **Senior Information Systems Professional** - Developed technology plans and supervised deployment for healthcare data sharing.  \n",
      "   \n",
      "This candidate meets the criteria of having managerial roles in IT and experience in a medical environment.\n",
      "\n"
     ]
    }
   ],
   "source": [
    "print(f\"Base RAG with query: '{query_text}'\")\n",
    "\n",
    "search_results = await cognee.search(\n",
    "    query_type=SearchType.COMPLETION,\n",
    "    query_text=query_text\n",
    ")\n",
    "\n",
    "print(\"Search results:\")\n",
    "for idx, result_text in enumerate(search_results, 1):\n",
    "    print(f\"{idx}. {result_text}\\n\")\n"
   ]
  },
  {
   "cell_type": "code",
   "execution_count": 19,
   "metadata": {},
   "outputs": [
    {
     "name": "stdout",
     "output_type": "stream",
     "text": [
      "cognee results with query: 'Find all candidates who have managerial or leadership roles in IT and have experience in a medical environment.'\n"
     ]
    },
    {
     "name": "stderr",
     "output_type": "stream",
     "text": [
      "INFO:cognee.infrastructure.llm.utils:Model not found in LiteLLM's model_cost.\u001b[92m12:23:43 - LiteLLM:INFO\u001b[0m: utils.py:2974 - \n",
      "LiteLLM completion() model= gpt-4o-mini; provider = openaiINFO:LiteLLM:\n",
      "LiteLLM completion() model= gpt-4o-mini; provider = openai"
     ]
    },
    {
     "name": "stdout",
     "output_type": "stream",
     "text": [
      "Search results:\n",
      "1. Candidates with managerial or leadership roles in IT:  \n",
      "1. Senior Information Technology Manager  \n",
      "2. IT Manager  \n",
      "\n",
      "Connections imply these candidates hold certifications and have relevant experience, though specific medical experience is not directly mentioned.\n",
      "\n"
     ]
    }
   ],
   "source": [
    "print(f\"cognee results with query: '{query_text}'\")\n",
    "\n",
    "search_results = await cognee.search(\n",
    "    query_type=SearchType.GRAPH_COMPLETION,\n",
    "    query_text=query_text\n",
    ")\n",
    "\n",
    "print(\"Search results:\")\n",
    "for idx, result_text in enumerate(search_results, 1):\n",
    "    print(f\"{idx}. {result_text}\\n\")"
   ]
  }
 ],
 "metadata": {
  "kernelspec": {
   "display_name": ".venv",
   "language": "python",
   "name": "python3"
  },
  "language_info": {
   "codemirror_mode": {
    "name": "ipython",
    "version": 3
   },
   "file_extension": ".py",
   "mimetype": "text/x-python",
   "name": "python",
   "nbconvert_exporter": "python",
   "pygments_lexer": "ipython3",
   "version": "3.11.11"
  }
 },
 "nbformat": 4,
 "nbformat_minor": 2
}
