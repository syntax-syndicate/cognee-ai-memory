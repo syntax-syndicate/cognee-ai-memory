{
 "cells": [
  {
   "cell_type": "code",
   "execution_count": null,
   "metadata": {},
   "outputs": [],
   "source": [
    "# If you haven't installed cognee or nest_asyncio yet, uncomment and run the lines below:\n",
    "# %pip install cognee\n",
    "# %pip install nest_asyncio"
   ]
  },
  {
   "cell_type": "code",
   "execution_count": 1,
   "metadata": {},
   "outputs": [
    {
     "name": "stderr",
     "output_type": "stream",
     "text": [
      "WARNING:OntologyAdapter:Ontology file 'None' not found. Using fallback ontology at http://example.org/empty_ontologyINFO:OntologyAdapter:Lookup built: 0 classes, 0 individualsWARNING:OntologyAdapter:Ontology file 'None' not found. Using fallback ontology at http://example.org/empty_ontologyINFO:OntologyAdapter:Lookup built: 0 classes, 0 individuals"
     ]
    }
   ],
   "source": [
    "import os\n",
    "import glob\n",
    "import nest_asyncio\n",
    "\n",
    "import cognee\n",
    "from cognee.api.v1.search import SearchType\n",
    "from cognee.api.v1.visualize.visualize import visualize_graph\n",
    "\n",
    "nest_asyncio.apply()\n",
    "\n",
    "# Prerequisites:\n",
    "# 1. Copy `.env.template` and rename it to `.env`.\n",
    "# 2. Add your OpenAI API key to the `.env` file in the `LLM_API_KEY` field:\n",
    "#    LLM_API_KEY = \"your_key_here\"\n"
   ]
  },
  {
   "cell_type": "code",
   "execution_count": 2,
   "metadata": {},
   "outputs": [
    {
     "name": "stderr",
     "output_type": "stream",
     "text": [
      "INFO:cognee.infrastructure.databases.graph.networkx.adapter:Graph deleted successfully./Users/handekafkas/Documents/local-code/new-cognee/cognee/.venv/lib/python3.11/site-packages/tqdm/auto.py:21: TqdmWarning: IProgress not found. Please update jupyter and ipywidgets. See https://ipywidgets.readthedocs.io/en/stable/user_install.html\n",
      "  from .autonotebook import tqdm as notebook_tqdm\n",
      "INFO:cognee.infrastructure.databases.relational.sqlalchemy.SqlAlchemyAdapter:Database deleted successfully."
     ]
    }
   ],
   "source": [
    "# Clears all data and system state\n",
    "\n",
    "await cognee.prune.prune_data()     \n",
    "await cognee.prune.prune_system(metadata=True)  "
   ]
  },
  {
   "cell_type": "code",
   "execution_count": 3,
   "metadata": {},
   "outputs": [
    {
     "name": "stdout",
     "output_type": "stream",
     "text": [
      "Found 4 PDF file(s) to process:\n",
      "- 10641230.pdf\n",
      "- 11584809.pdf\n",
      "- 10553553.pdf\n",
      "- 13405733.pdf\n"
     ]
    }
   ],
   "source": [
    "pdf_dir = os.path.join(os.getcwd(), \"data\", \"IT-MANAGER\")\n",
    "\n",
    "pdf_files = glob.glob(os.path.join(pdf_dir, \"*.pdf\"))[:10]\n",
    "\n",
    "if not pdf_files:\n",
    "    print(f\"No PDF files found in {pdf_dir}\")\n",
    "else:\n",
    "    print(f\"Found {len(pdf_files)} PDF file(s) to process:\")\n",
    "    for pdf_file in pdf_files:\n",
    "        print(f\"- {os.path.basename(pdf_file)}\")"
   ]
  },
  {
   "cell_type": "code",
   "execution_count": 4,
   "metadata": {},
   "outputs": [
    {
     "name": "stderr",
     "output_type": "stream",
     "text": [
      "INFO:cognee.infrastructure.llm.utils:Model not found in LiteLLM's model_cost.WARNING:langfuse:Langfuse client is disabled since no public_key was provided as a parameter or environment variable 'LANGFUSE_PUBLIC_KEY'. See our docs: https://langfuse.com/docs/sdk/python/low-level-sdk#initialize-client\u001b[92m13:22:35 - LiteLLM:INFO\u001b[0m: utils.py:2974 - \n",
      "LiteLLM completion() model= gpt-4o-mini; provider = openaiINFO:LiteLLM:\n",
      "LiteLLM completion() model= gpt-4o-mini; provider = openai"
     ]
    },
    {
     "name": "stdout",
     "output_type": "stream",
     "text": [
      "Adding PDFs to cognee...\n",
      "Processing 10641230.pdf...\n"
     ]
    },
    {
     "name": "stderr",
     "output_type": "stream",
     "text": [
      "INFO:run_tasks(tasks: [Task], data):Pipeline run started: `4b84e400-23fc-5976-bbb4-f8ee303eed81`INFO:run_tasks(tasks: [Task], data):Coroutine task started: `resolve_data_directories`INFO:run_tasks(tasks: [Task], data):Coroutine task started: `ingest_data`"
     ]
    },
    {
     "name": "stdout",
     "output_type": "stream",
     "text": [
      "User 0780f453-73e0-4a3f-9440-7ae826795a51 has registered.\n",
      "<cognee.modules.pipelines.models.PipelineRun.PipelineRun object at 0x305b15c50>\n"
     ]
    },
    {
     "name": "stderr",
     "output_type": "stream",
     "text": [
      "/Users/handekafkas/Documents/local-code/new-cognee/cognee/.venv/lib/python3.11/site-packages/dlt/destinations/impl/sqlalchemy/merge_job.py:194: SAWarning: Table 'file_metadata' already exists within the given MetaData - not copying.\n",
      "  staging_table_obj = table_obj.to_metadata(\n",
      "/Users/handekafkas/Documents/local-code/new-cognee/cognee/.venv/lib/python3.11/site-packages/dlt/destinations/impl/sqlalchemy/merge_job.py:229: SAWarning: implicitly coercing SELECT object to scalar subquery; please use the .scalar_subquery() method to produce a scalar subquery.\n",
      "  order_by=order_dir_func(order_by_col),\n",
      "INFO:run_tasks(tasks: [Task], data):Coroutine task completed: `ingest_data`INFO:run_tasks(tasks: [Task], data):Coroutine task completed: `resolve_data_directories`INFO:run_tasks(tasks: [Task], data):Pipeline run completed: `4b84e400-23fc-5976-bbb4-f8ee303eed81`INFO:run_tasks(tasks: [Task], data):Pipeline run started: `4b84e400-23fc-5976-bbb4-f8ee303eed81`INFO:run_tasks(tasks: [Task], data):Coroutine task started: `resolve_data_directories`INFO:run_tasks(tasks: [Task], data):Coroutine task started: `ingest_data`INFO:run_tasks(tasks: [Task], data):Coroutine task completed: `ingest_data`INFO:run_tasks(tasks: [Task], data):Coroutine task completed: `resolve_data_directories`INFO:run_tasks(tasks: [Task], data):Pipeline run completed: `4b84e400-23fc-5976-bbb4-f8ee303eed81`INFO:run_tasks(tasks: [Task], data):Pipeline run started: `4b84e400-23fc-5976-bbb4-f8ee303eed81`INFO:run_tasks(tasks: [Task], data):Coroutine task started: `resolve_data_directories`INFO:run_tasks(tasks: [Task], data):Coroutine task started: `ingest_data`"
     ]
    },
    {
     "name": "stdout",
     "output_type": "stream",
     "text": [
      "<cognee.modules.pipelines.models.PipelineRun.PipelineRun object at 0x306195310>\n",
      "Processing 11584809.pdf...\n",
      "<cognee.modules.pipelines.models.PipelineRun.PipelineRun object at 0x30639c390>\n",
      "<cognee.modules.pipelines.models.PipelineRun.PipelineRun object at 0x306a6c050>\n",
      "Processing 10553553.pdf...\n",
      "<cognee.modules.pipelines.models.PipelineRun.PipelineRun object at 0x306336610>\n"
     ]
    },
    {
     "name": "stderr",
     "output_type": "stream",
     "text": [
      "INFO:run_tasks(tasks: [Task], data):Coroutine task completed: `ingest_data`INFO:run_tasks(tasks: [Task], data):Coroutine task completed: `resolve_data_directories`INFO:run_tasks(tasks: [Task], data):Pipeline run completed: `4b84e400-23fc-5976-bbb4-f8ee303eed81`INFO:run_tasks(tasks: [Task], data):Pipeline run started: `4b84e400-23fc-5976-bbb4-f8ee303eed81`INFO:run_tasks(tasks: [Task], data):Coroutine task started: `resolve_data_directories`INFO:run_tasks(tasks: [Task], data):Coroutine task started: `ingest_data`INFO:run_tasks(tasks: [Task], data):Coroutine task completed: `ingest_data`INFO:run_tasks(tasks: [Task], data):Coroutine task completed: `resolve_data_directories`INFO:run_tasks(tasks: [Task], data):Pipeline run completed: `4b84e400-23fc-5976-bbb4-f8ee303eed81`"
     ]
    },
    {
     "name": "stdout",
     "output_type": "stream",
     "text": [
      "<cognee.modules.pipelines.models.PipelineRun.PipelineRun object at 0x306b4dd10>\n",
      "Processing 13405733.pdf...\n",
      "<cognee.modules.pipelines.models.PipelineRun.PipelineRun object at 0x306a80310>\n",
      "<cognee.modules.pipelines.models.PipelineRun.PipelineRun object at 0x306b40810>\n",
      "All specified PDF files have been added.\n"
     ]
    }
   ],
   "source": [
    "if not pdf_files:\n",
    "    print(\"No PDFs to add. Please check your file paths.\")\n",
    "else:\n",
    "    print(\"Adding PDFs to cognee...\")\n",
    "    for pdf_file in pdf_files:\n",
    "        print(f\"Processing {os.path.basename(pdf_file)}...\")\n",
    "        await cognee.add(pdf_file)\n",
    "\n",
    "print(\"All specified PDF files have been added.\")\n"
   ]
  },
  {
   "cell_type": "code",
   "execution_count": 5,
   "metadata": {},
   "outputs": [
    {
     "name": "stderr",
     "output_type": "stream",
     "text": [
      "WARNING:OntologyAdapter:Ontology file 'None' not found. Using fallback ontology at http://example.org/empty_ontologyINFO:OntologyAdapter:Lookup built: 0 classes, 0 individualsINFO:cognee.infrastructure.llm.utils:Model not found in LiteLLM's model_cost.INFO:run_tasks(tasks: [Task], data):Pipeline run started: `af81ab41-8243-522f-a10a-b7b5febcc577`INFO:run_tasks(tasks: [Task], data):Coroutine task started: `classify_documents`INFO:run_tasks(tasks: [Task], data):Coroutine task started: `check_permissions_on_documents`INFO:run_tasks(tasks: [Task], data):Async generator task started: `extract_chunks_from_documents`"
     ]
    },
    {
     "name": "stdout",
     "output_type": "stream",
     "text": [
      "Starting cognify (building the knowledge graph from documents)...\n"
     ]
    },
    {
     "name": "stderr",
     "output_type": "stream",
     "text": [
      "INFO:run_tasks(tasks: [Task], data):Coroutine task started: `extract_graph_from_data`INFO:cognee.infrastructure.llm.utils:Model not found in LiteLLM's model_cost.INFO:cognee.infrastructure.llm.utils:Model not found in LiteLLM's model_cost.\u001b[92m13:22:56 - LiteLLM:INFO\u001b[0m: utils.py:2974 - \n",
      "LiteLLM completion() model= gpt-4o-mini; provider = openaiINFO:LiteLLM:\n",
      "LiteLLM completion() model= gpt-4o-mini; provider = openaiINFO:cognee.infrastructure.llm.utils:Model not found in LiteLLM's model_cost.\u001b[92m13:22:56 - LiteLLM:INFO\u001b[0m: utils.py:2974 - \n",
      "LiteLLM completion() model= gpt-4o-mini; provider = openaiINFO:LiteLLM:\n",
      "LiteLLM completion() model= gpt-4o-mini; provider = openaiINFO:cognee.infrastructure.llm.utils:Model not found in LiteLLM's model_cost.\u001b[92m13:22:56 - LiteLLM:INFO\u001b[0m: utils.py:2974 - \n",
      "LiteLLM completion() model= gpt-4o-mini; provider = openaiINFO:LiteLLM:\n",
      "LiteLLM completion() model= gpt-4o-mini; provider = openai\u001b[92m13:22:56 - LiteLLM:INFO\u001b[0m: utils.py:2974 - \n",
      "LiteLLM completion() model= gpt-4o-mini; provider = openaiINFO:LiteLLM:\n",
      "LiteLLM completion() model= gpt-4o-mini; provider = openaiWARNING:cognee.infrastructure.databases.graph.networkx.adapter:File /Users/handekafkas/Documents/local-code/new-cognee/cognee/cognee/.cognee_system/databases/cognee_graph.pkl not found. Initializing an empty graph.INFO:OntologyAdapter:No close match found for 'job_title' in category 'classes'INFO:OntologyAdapter:No close match found for 'manager - information technology and building automation systems' in category 'individuals'INFO:OntologyAdapter:No close match found for 'concept' in category 'classes'INFO:OntologyAdapter:No close match found for 'enterprise project lifecycle methodology' in category 'individuals'INFO:OntologyAdapter:No close match found for 'award' in category 'classes'INFO:OntologyAdapter:No close match found for 'navy and marine corps achievement medal' in category 'individuals'INFO:OntologyAdapter:No close match found for 'sailor of the year' in category 'individuals'INFO:OntologyAdapter:No close match found for 'certification' in category 'classes'INFO:OntologyAdapter:No close match found for 'project management professional' in category 'individuals'INFO:OntologyAdapter:No close match found for 'degree' in category 'classes'INFO:OntologyAdapter:No close match found for 'master of science in computer & information science' in category 'individuals'INFO:OntologyAdapter:No close match found for 'bachelor of science in management of information systems' in category 'individuals'INFO:OntologyAdapter:No close match found for 'information systems technician' in category 'individuals'INFO:OntologyAdapter:No close match found for 'information technology manager' in category 'individuals'INFO:OntologyAdapter:No close match found for 'company' in category 'classes'INFO:OntologyAdapter:No close match found for 'company name' in category 'individuals'INFO:OntologyAdapter:No close match found for 'location' in category 'classes'INFO:OntologyAdapter:No close match found for 'city, state' in category 'individuals'INFO:OntologyAdapter:No close match found for 'master of science' in category 'individuals'INFO:OntologyAdapter:No close match found for 'bachelor of science' in category 'individuals'INFO:OntologyAdapter:No close match found for 'profession' in category 'classes'INFO:OntologyAdapter:No close match found for 'it manager' in category 'individuals'INFO:OntologyAdapter:No close match found for 'it administrator' in category 'individuals'INFO:OntologyAdapter:No close match found for 'network administrator' in category 'individuals'INFO:OntologyAdapter:No close match found for 'college of education computer technician' in category 'individuals'INFO:OntologyAdapter:No close match found for 'it management' in category 'individuals'INFO:OntologyAdapter:No close match found for 'comptia a+ certification' in category 'individuals'INFO:OntologyAdapter:No close match found for 'course' in category 'classes'INFO:OntologyAdapter:No close match found for 'comptia net+ certification class' in category 'individuals'INFO:OntologyAdapter:No close match found for 'mcsa certification class' in category 'individuals'INFO:OntologyAdapter:No close match found for 'web development i + ii class' in category 'individuals'INFO:OntologyAdapter:No close match found for 'gaming console repair and modification' in category 'individuals'INFO:OntologyAdapter:No close match found for 'digital media manipulation class' in category 'individuals'INFO:OntologyAdapter:No close match found for 'java programming class' in category 'individuals'INFO:OntologyAdapter:No close match found for 'mobile device repair' in category 'individuals'INFO:OntologyAdapter:No close match found for 'field' in category 'classes'INFO:OntologyAdapter:No close match found for 'database servers' in category 'individuals'INFO:OntologyAdapter:No close match found for 'content management systems (cms)' in category 'individuals'INFO:OntologyAdapter:No close match found for 'information technology consultant' in category 'individuals'INFO:OntologyAdapter:No close match found for 'associate of science in information technology' in category 'individuals'INFO:OntologyAdapter:No close match found for 'experience' in category 'classes'INFO:OntologyAdapter:No close match found for 'director of information technology' in category 'individuals'INFO:OntologyAdapter:No close match found for 'information technology management' in category 'individuals'INFO:OntologyAdapter:No close match found for 'business administration and management' in category 'individuals'INFO:OntologyAdapter:No close match found for 'certified associate in project management (capm)' in category 'individuals'INFO:OntologyAdapter:No close match found for 'organization' in category 'classes'INFO:OntologyAdapter:No close match found for 'project management institute (pmi)' in category 'individuals'INFO:OntologyAdapter:No close match found for 'company name 1' in category 'individuals'INFO:OntologyAdapter:No close match found for 'company name 2' in category 'individuals'INFO:OntologyAdapter:No close match found for 'company name 3' in category 'individuals'INFO:OntologyAdapter:No close match found for 'company name 4' in category 'individuals'INFO:run_tasks(tasks: [Task], data):Coroutine task started: `summarize_text`INFO:cognee.infrastructure.llm.utils:Model not found in LiteLLM's model_cost.INFO:cognee.infrastructure.llm.utils:Model not found in LiteLLM's model_cost.\u001b[92m13:23:08 - LiteLLM:INFO\u001b[0m: utils.py:2974 - \n",
      "LiteLLM completion() model= gpt-4o-mini; provider = openaiINFO:LiteLLM:\n",
      "LiteLLM completion() model= gpt-4o-mini; provider = openaiINFO:cognee.infrastructure.llm.utils:Model not found in LiteLLM's model_cost.\u001b[92m13:23:08 - LiteLLM:INFO\u001b[0m: utils.py:2974 - \n",
      "LiteLLM completion() model= gpt-4o-mini; provider = openaiINFO:LiteLLM:\n",
      "LiteLLM completion() model= gpt-4o-mini; provider = openaiINFO:cognee.infrastructure.llm.utils:Model not found in LiteLLM's model_cost.\u001b[92m13:23:08 - LiteLLM:INFO\u001b[0m: utils.py:2974 - \n",
      "LiteLLM completion() model= gpt-4o-mini; provider = openaiINFO:LiteLLM:\n",
      "LiteLLM completion() model= gpt-4o-mini; provider = openai\u001b[92m13:23:08 - LiteLLM:INFO\u001b[0m: utils.py:2974 - \n",
      "LiteLLM completion() model= gpt-4o-mini; provider = openaiINFO:LiteLLM:\n",
      "LiteLLM completion() model= gpt-4o-mini; provider = openaiINFO:run_tasks(tasks: [Task], data):Coroutine task started: `add_data_points`INFO:run_tasks(tasks: [Task], data):Coroutine task completed: `add_data_points`INFO:run_tasks(tasks: [Task], data):Coroutine task completed: `summarize_text`INFO:run_tasks(tasks: [Task], data):Coroutine task completed: `extract_graph_from_data`INFO:run_tasks(tasks: [Task], data):Async generator task completed: `extract_chunks_from_documents`INFO:run_tasks(tasks: [Task], data):Coroutine task completed: `check_permissions_on_documents`INFO:run_tasks(tasks: [Task], data):Coroutine task completed: `classify_documents`INFO:run_tasks(tasks: [Task], data):Pipeline run completed: `af81ab41-8243-522f-a10a-b7b5febcc577`"
     ]
    },
    {
     "name": "stdout",
     "output_type": "stream",
     "text": [
      "Cognify process complete.\n"
     ]
    }
   ],
   "source": [
    "print(\"Starting cognify (building the knowledge graph from documents)...\")\n",
    "await cognee.cognify()\n",
    "print(\"Cognify process complete.\")"
   ]
  },
  {
   "cell_type": "code",
   "execution_count": 6,
   "metadata": {},
   "outputs": [
    {
     "name": "stderr",
     "output_type": "stream",
     "text": [
      "INFO:cognee.modules.visualization.cognee_network_visualization:Graph visualization saved as /Users/handekafkas/graph_visualization.htmlINFO:root:The HTML file has been stored on your home directory! Navigate there with cd ~"
     ]
    },
    {
     "data": {
      "text/plain": [
       "'/Users/handekafkas/graph_visualization.html'"
      ]
     },
     "metadata": {},
     "output_type": "display_data"
    }
   ],
   "source": [
    "await visualize_graph()\n",
    "\n",
    "# The file is saved in your current folder\n",
    "home_dir = os.path.expanduser(\"~\")\n",
    "html_file = os.path.join(home_dir, \"graph_visualization.html\")\n",
    "display(html_file)"
   ]
  },
  {
   "cell_type": "code",
   "execution_count": 64,
   "metadata": {},
   "outputs": [
    {
     "name": "stdout",
     "output_type": "stream",
     "text": [
      "------ Base RAG with query: 'Who managed more than three employees and also had SaaS (or ‘cloud’) responsibilities?' ------\n"
     ]
    },
    {
     "name": "stderr",
     "output_type": "stream",
     "text": [
      "INFO:cognee.infrastructure.llm.utils:Model not found in LiteLLM's model_cost.\u001b[92m16:49:24 - LiteLLM:INFO\u001b[0m: utils.py:2974 - \n",
      "LiteLLM completion() model= gpt-4o-mini; provider = openaiINFO:LiteLLM:\n",
      "LiteLLM completion() model= gpt-4o-mini; provider = openai"
     ]
    },
    {
     "name": "stdout",
     "output_type": "stream",
     "text": [
      "Search results:\n",
      "1. The Information Technology Manager managed a four-person local IT team and had ownership of SaaS customers in North America, Canada, and Australia.\n",
      "\n",
      "------ cognee results with query: 'Who managed more than three employees and also had SaaS (or ‘cloud’) responsibilities?' ------\n"
     ]
    },
    {
     "name": "stderr",
     "output_type": "stream",
     "text": [
      "INFO:cognee.infrastructure.llm.utils:Model not found in LiteLLM's model_cost.\u001b[92m16:49:33 - LiteLLM:INFO\u001b[0m: utils.py:2974 - \n",
      "LiteLLM completion() model= gpt-4o-mini; provider = openaiINFO:LiteLLM:\n",
      "LiteLLM completion() model= gpt-4o-mini; provider = openai"
     ]
    },
    {
     "name": "stdout",
     "output_type": "stream",
     "text": [
      "Search results:\n",
      " The Information Technology Manager managed a four-person local IT team and had ownership of SaaS customers in North America, Canada, and Australia.\n",
      "\n"
     ]
    }
   ],
   "source": [
    "query_1 = (\n",
    "    \"Who managed more than three employees and also had SaaS (or ‘cloud’) responsibilities?\"\n",
    ")\n",
    "\n",
    "print(f\"------ Base RAG with query: '{query_1}' ------\")\n",
    "\n",
    "search_results = await cognee.search(\n",
    "    query_type=SearchType.COMPLETION,\n",
    "    query_text=query_1\n",
    ")\n",
    "\n",
    "print(\"Search results:\")\n",
    "for idx, result_text in enumerate(search_results, 1):\n",
    "    print(f\"{idx}. {result_text}\\n\")\n",
    "\n",
    "print(f\"------ cognee results with query: '{query_1}' ------\")\n",
    "\n",
    "search_results = await cognee.search(\n",
    "    query_type=SearchType.GRAPH_COMPLETION,\n",
    "    query_text=query_1\n",
    ")\n",
    "\n",
    "print(f\"Search results:\\n {result_text}\\n\")\n",
    "\n"
   ]
  },
  {
   "cell_type": "code",
   "execution_count": 13,
   "metadata": {},
   "outputs": [
    {
     "name": "stdout",
     "output_type": "stream",
     "text": [
      "------ Base RAG with query: 'Which applicants hold (or have trained for) an MCSA certification and also have experience with Active Directory?' ------\n"
     ]
    },
    {
     "name": "stderr",
     "output_type": "stream",
     "text": [
      "INFO:cognee.infrastructure.llm.utils:Model not found in LiteLLM's model_cost.\u001b[92m13:41:50 - LiteLLM:INFO\u001b[0m: utils.py:2974 - \n",
      "LiteLLM completion() model= gpt-4o-mini; provider = openaiINFO:LiteLLM:\n",
      "LiteLLM completion() model= gpt-4o-mini; provider = openai"
     ]
    },
    {
     "name": "stdout",
     "output_type": "stream",
     "text": [
      "Search results:\n",
      "1. The applicants who hold (or have trained for) an MCSA certification and also have experience with Active Directory are qualified professionals listed under the qualifications section. Specifically, they have completed an MCSA certification class and have mentioned experience with Active Directory in their skill set.\n",
      "\n",
      "------ cognee results with query: 'Which applicants hold (or have trained for) an MCSA certification and also have experience with Active Directory?' ------\n"
     ]
    },
    {
     "name": "stderr",
     "output_type": "stream",
     "text": [
      "INFO:cognee.infrastructure.llm.utils:Model not found in LiteLLM's model_cost.\u001b[92m13:41:57 - LiteLLM:INFO\u001b[0m: utils.py:2974 - \n",
      "LiteLLM completion() model= gpt-4o-mini; provider = openaiINFO:LiteLLM:\n",
      "LiteLLM completion() model= gpt-4o-mini; provider = openai"
     ]
    },
    {
     "name": "stdout",
     "output_type": "stream",
     "text": [
      "Search results:\n",
      "1. The applicants who hold (or have trained for) an MCSA certification and have experience with Active Directory include the manager of IT and Building Automation Systems who is certified as a Microsoft Certified Systems Administrator (MCSA), and the IT Management professional who has completed an MCSA certification class and also has experience with Active Directory.\n",
      "\n"
     ]
    }
   ],
   "source": [
    "query_2 = (\n",
    "    \"Which applicants hold (or have trained for) an MCSA certification and also have experience with Active Directory?\"\n",
    ")\n",
    "\n",
    "print(f\"------ Base RAG with query: '{query_2}' ------\")\n",
    "\n",
    "search_results = await cognee.search(\n",
    "    query_type=SearchType.COMPLETION,\n",
    "    query_text=query_2\n",
    ")\n",
    "\n",
    "print(\"Search results:\")\n",
    "for idx, result_text in enumerate(search_results, 1):\n",
    "    print(f\"{idx}. {result_text}\\n\")\n",
    "\n",
    "\n",
    "print(f\"------ cognee results with query: '{query_2}' ------\")\n",
    "\n",
    "search_results = await cognee.search(\n",
    "    query_type=SearchType.GRAPH_COMPLETION,\n",
    "    query_text=query_2\n",
    ")\n",
    "\n",
    "print(\"Search results:\")\n",
    "for idx, result_text in enumerate(search_results, 1):\n",
    "    print(f\"{idx}. {result_text}\\n\")\n",
    "\n"
   ]
  },
  {
   "cell_type": "code",
   "execution_count": 71,
   "metadata": {},
   "outputs": [
    {
     "name": "stdout",
     "output_type": "stream",
     "text": [
      "------ Base RAG with query: 'Who has a Master’s degree in IT (or a related field) and also performed network engineering or network administration tasks?' ------\n"
     ]
    },
    {
     "name": "stderr",
     "output_type": "stream",
     "text": [
      "INFO:cognee.infrastructure.llm.utils:Model not found in LiteLLM's model_cost.\u001b[92m17:02:16 - LiteLLM:INFO\u001b[0m: utils.py:2974 - \n",
      "LiteLLM completion() model= gpt-4o-mini; provider = openaiINFO:LiteLLM:\n",
      "LiteLLM completion() model= gpt-4o-mini; provider = openai"
     ]
    },
    {
     "name": "stdout",
     "output_type": "stream",
     "text": [
      "Search results:\n",
      "1. The individual has a Master of Science in Computer & Information Science, which is a related field to IT. They have performed network engineering tasks, including managing network infrastructure and server environments, troubleshooting networks, and providing technical support.\n",
      "\n",
      "------ cognee results with query: 'Who has a Master’s degree in IT (or a related field) and also performed network engineering or network administration tasks?' ------\n"
     ]
    },
    {
     "name": "stderr",
     "output_type": "stream",
     "text": [
      "INFO:cognee.infrastructure.llm.utils:Model not found in LiteLLM's model_cost.\u001b[92m17:02:20 - LiteLLM:INFO\u001b[0m: utils.py:2974 - \n",
      "LiteLLM completion() model= gpt-4o-mini; provider = openaiINFO:LiteLLM:\n",
      "LiteLLM completion() model= gpt-4o-mini; provider = openai"
     ]
    },
    {
     "name": "stdout",
     "output_type": "stream",
     "text": [
      "Search results:\n",
      "1. The node that has a Master’s degree in IT (or a related field) and performed network engineering or network administration tasks is the **it manager**.\n",
      "\n"
     ]
    }
   ],
   "source": [
    "query_3 = (\n",
    "    \"Who has a Master’s degree in IT (or a related field) and also performed network engineering or network administration tasks?\"\n",
    ")\n",
    "\n",
    "print(f\"------ Base RAG with query: '{query_3}' ------\")\n",
    "\n",
    "search_results = await cognee.search(\n",
    "    query_type=SearchType.COMPLETION,\n",
    "    query_text=query_3\n",
    ")\n",
    "\n",
    "print(\"Search results:\")\n",
    "for idx, result_text in enumerate(search_results, 1):\n",
    "    print(f\"{idx}. {result_text}\\n\")\n",
    "\n",
    "print(f\"------ cognee results with query: '{query_3}' ------\")\n",
    "\n",
    "search_results = await cognee.search(\n",
    "    query_type=SearchType.GRAPH_COMPLETION,\n",
    "    query_text=query_3\n",
    ")\n",
    "\n",
    "print(\"Search results:\")\n",
    "for idx, result_text in enumerate(search_results, 1):\n",
    "    print(f\"{idx}. {result_text}\\n\")\n",
    "\n"
   ]
  },
  {
   "cell_type": "code",
   "execution_count": 50,
   "metadata": {},
   "outputs": [
    {
     "name": "stdout",
     "output_type": "stream",
     "text": [
      "------ Base RAG with query: 'Who are the candidates who have a degree in business administration and management?' ------\n"
     ]
    },
    {
     "name": "stderr",
     "output_type": "stream",
     "text": [
      "INFO:cognee.infrastructure.llm.utils:Model not found in LiteLLM's model_cost.\u001b[92m16:13:00 - LiteLLM:INFO\u001b[0m: utils.py:2974 - \n",
      "LiteLLM completion() model= gpt-4o-mini; provider = openaiINFO:LiteLLM:\n",
      "LiteLLM completion() model= gpt-4o-mini; provider = openai"
     ]
    },
    {
     "name": "stdout",
     "output_type": "stream",
     "text": [
      "Search results:\n",
      "1. The candidates who have a degree in business administration and management are not specifically mentioned in the provided context. The closest relevant degree listed is a Master of Science in Business Information Technology.\n",
      "\n",
      "------ cognee results with query: 'Who are the candidates who have a degree in business administration and management?' ------\n"
     ]
    },
    {
     "name": "stderr",
     "output_type": "stream",
     "text": [
      "INFO:cognee.infrastructure.llm.utils:Model not found in LiteLLM's model_cost.\u001b[92m16:13:04 - LiteLLM:INFO\u001b[0m: utils.py:2974 - \n",
      "LiteLLM completion() model= gpt-4o-mini; provider = openaiINFO:LiteLLM:\n",
      "LiteLLM completion() model= gpt-4o-mini; provider = openai"
     ]
    },
    {
     "name": "stdout",
     "output_type": "stream",
     "text": [
      "Search results:\n",
      " The candidates who have a degree in business administration and management are not specifically mentioned in the provided context. The closest relevant degree listed is a Master of Science in Business Information Technology.\n",
      "\n",
      "------ Graph Summary results with query: 'Who are the candidates who have a degree in business administration and management?' ------\n"
     ]
    },
    {
     "name": "stderr",
     "output_type": "stream",
     "text": [
      "INFO:cognee.infrastructure.llm.utils:Model not found in LiteLLM's model_cost.\u001b[92m16:13:12 - LiteLLM:INFO\u001b[0m: utils.py:2974 - \n",
      "LiteLLM completion() model= gpt-4o-mini; provider = openaiINFO:LiteLLM:\n",
      "LiteLLM completion() model= gpt-4o-mini; provider = openaiINFO:cognee.infrastructure.llm.utils:Model not found in LiteLLM's model_cost.\u001b[92m16:13:15 - LiteLLM:INFO\u001b[0m: utils.py:2974 - \n",
      "LiteLLM completion() model= gpt-4o-mini; provider = openaiINFO:LiteLLM:\n",
      "LiteLLM completion() model= gpt-4o-mini; provider = openai"
     ]
    },
    {
     "name": "stdout",
     "output_type": "stream",
     "text": [
      "Search results:\n",
      "1. The candidate with a degree in business administration and management is the \"DIRECTOR OF INFORMATION TECHNOLOGY.\"\n",
      "\n"
     ]
    }
   ],
   "source": [
    "query_4 = (\n",
    "    \"Who are the candidates who have a degree in business administration and management?\"\n",
    ")\n",
    "\n",
    "print(f\"------ Base RAG with query: '{query_4}' ------\")\n",
    "\n",
    "search_results = await cognee.search(\n",
    "    query_type=SearchType.COMPLETION,\n",
    "    query_text=query_4\n",
    ")\n",
    "\n",
    "print(\"Search results:\")\n",
    "for idx, result_text in enumerate(search_results, 1):\n",
    "    print(f\"{idx}. {result_text}\\n\")\n",
    "\n",
    "\n",
    "print(f\"------ cognee results with query: '{query_4}' ------\")\n",
    "\n",
    "search_results = await cognee.search(\n",
    "    query_type=SearchType.GRAPH_COMPLETION,\n",
    "    query_text=query_4\n",
    ")\n",
    "\n",
    "print(f\"Search results:\\n {result_text}\\n\")\n",
    "\n",
    "\n",
    "print(f\"------ Graph Summary results with query: '{query_4}' ------\")\n",
    "\n",
    "search_results = await cognee.search(\n",
    "    query_type=SearchType.GRAPH_SUMMARY_COMPLETION,\n",
    "    query_text=query_4\n",
    ")\n",
    "\n",
    "print(\"Search results:\")\n",
    "for idx, result_text in enumerate(search_results, 1):\n",
    "    print(f\"{idx}. {result_text}\\n\")"
   ]
  },
  {
   "cell_type": "code",
   "execution_count": 59,
   "metadata": {},
   "outputs": [
    {
     "name": "stdout",
     "output_type": "stream",
     "text": [
      "------ Base RAG with query: 'Who have been to project management institute or holds a PMP certification?' ------\n"
     ]
    },
    {
     "name": "stderr",
     "output_type": "stream",
     "text": [
      "INFO:cognee.infrastructure.llm.utils:Model not found in LiteLLM's model_cost.\u001b[92m16:24:22 - LiteLLM:INFO\u001b[0m: utils.py:2974 - \n",
      "LiteLLM completion() model= gpt-4o-mini; provider = openaiINFO:LiteLLM:\n",
      "LiteLLM completion() model= gpt-4o-mini; provider = openai"
     ]
    },
    {
     "name": "stdout",
     "output_type": "stream",
     "text": [
      "Search results:\n",
      "1. The individual is a current member of the Project Management Institute (PMI) and holds a Certified Associate in Project Management (CAPM) certification.\n",
      "\n",
      "------ cognee results with query: 'Who have been to project management institute or holds a PMP certification?' ------\n"
     ]
    },
    {
     "name": "stderr",
     "output_type": "stream",
     "text": [
      "INFO:cognee.infrastructure.llm.utils:Model not found in LiteLLM's model_cost.\u001b[92m16:24:26 - LiteLLM:INFO\u001b[0m: utils.py:2974 - \n",
      "LiteLLM completion() model= gpt-4o-mini; provider = openaiINFO:LiteLLM:\n",
      "LiteLLM completion() model= gpt-4o-mini; provider = openai"
     ]
    },
    {
     "name": "stdout",
     "output_type": "stream",
     "text": [
      "Search results:\n",
      " The individual is a current member of the Project Management Institute (PMI) and holds a Certified Associate in Project Management (CAPM) certification.\n",
      "\n",
      "------ Graph Summary results with query: 'Who have been to project management institute or holds a PMP certification?' ------\n"
     ]
    },
    {
     "name": "stderr",
     "output_type": "stream",
     "text": [
      "INFO:cognee.infrastructure.llm.utils:Model not found in LiteLLM's model_cost.\u001b[92m16:24:28 - LiteLLM:INFO\u001b[0m: utils.py:2974 - \n",
      "LiteLLM completion() model= gpt-4o-mini; provider = openaiINFO:LiteLLM:\n",
      "LiteLLM completion() model= gpt-4o-mini; provider = openaiINFO:cognee.infrastructure.llm.utils:Model not found in LiteLLM's model_cost.\u001b[92m16:24:30 - LiteLLM:INFO\u001b[0m: utils.py:2974 - \n",
      "LiteLLM completion() model= gpt-4o-mini; provider = openaiINFO:LiteLLM:\n",
      "LiteLLM completion() model= gpt-4o-mini; provider = openai"
     ]
    },
    {
     "name": "stdout",
     "output_type": "stream",
     "text": [
      "Search results:\n",
      "1. The Manager in Information Technology and Building Automation Systems holds a Project Management Professional (PMP) certification. Additionally, the Director of Information Technology is associated with the Project Management Institute (PMI).\n",
      "\n"
     ]
    }
   ],
   "source": [
    "query_5 = (\n",
    "    \"Who have been to project management institute or holds a PMP certification?\"    \n",
    ")\n",
    "\n",
    "print(f\"------ Base RAG with query: '{query_5}' ------\")\n",
    "\n",
    "search_results = await cognee.search(\n",
    "    query_type=SearchType.COMPLETION,\n",
    "    query_text=query_5\n",
    ")\n",
    "\n",
    "print(\"Search results:\")\n",
    "for idx, result_text in enumerate(search_results, 1):\n",
    "    print(f\"{idx}. {result_text}\\n\")\n",
    "\n",
    "\n",
    "print(f\"------ cognee results with query: '{query_5}' ------\")\n",
    "\n",
    "search_results = await cognee.search(\n",
    "    query_type=SearchType.GRAPH_COMPLETION,\n",
    "    query_text=query_5\n",
    ")\n",
    "\n",
    "print(f\"Search results:\\n {result_text}\\n\")\n",
    "\n",
    "\n",
    "print(f\"------ Graph Summary results with query: '{query_5}' ------\")\n",
    "\n",
    "search_results = await cognee.search(\n",
    "    query_type=SearchType.GRAPH_SUMMARY_COMPLETION,\n",
    "    query_text=query_5\n",
    ")\n",
    "\n",
    "print(\"Search results:\")\n",
    "for idx, result_text in enumerate(search_results, 1):\n",
    "    print(f\"{idx}. {result_text}\\n\")"
   ]
  },
  {
   "cell_type": "markdown",
   "metadata": {},
   "source": [
    "# Test set\n",
    "\n",
    "| Query    | Reference | Doc |\n",
    "| -------- | ------- | -------|\n",
    "| query_1  | INFORMATION TECHNOLOGY MANAGER | 10553553.pdf|\n",
    "| query_2 | MANAGER - INFORMATION TECHNOLOGY AND BUILDING AUTOMATION SYSTEMS, IT MANAGEMENT | 11584809.pdf & 10641230.pdf |\n",
    "| query_3    | INFORMATION TECHNOLOGY MANAGER, MANAGER - INFORMATION TECHNOLOGY AND BUILDING AUTOMATION SYSTEMS | 10553553.pdf & 11584809.pdf |\n",
    "| query_4    | DIRECTOR OF INFORMATION TECHNOLOGY | 13405733.pdf |\n",
    "| query_5    | MANAGER - INFORMATION TECHNOLOGY AND BUILDING AUTOMATION SYSTEMS, DIRECTOR OF INFORMATION TECHNOLOGY | 11584809.pdf & 13405733.pdf |\n"
   ]
  },
  {
   "cell_type": "markdown",
   "metadata": {},
   "source": []
  }
 ],
 "metadata": {
  "kernelspec": {
   "display_name": ".venv",
   "language": "python",
   "name": "python3"
  },
  "language_info": {
   "codemirror_mode": {
    "name": "ipython",
    "version": 3
   },
   "file_extension": ".py",
   "mimetype": "text/x-python",
   "name": "python",
   "nbconvert_exporter": "python",
   "pygments_lexer": "ipython3",
   "version": "3.11.11"
  }
 },
 "nbformat": 4,
 "nbformat_minor": 2
}
